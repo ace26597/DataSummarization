{
  "nbformat": 4,
  "nbformat_minor": 0,
  "metadata": {
    "kernelspec": {
      "display_name": "Python 3",
      "language": "python",
      "name": "python3"
    },
    "language_info": {
      "codemirror_mode": {
        "name": "ipython",
        "version": 3
      },
      "file_extension": ".py",
      "mimetype": "text/x-python",
      "name": "python",
      "nbconvert_exporter": "python",
      "pygments_lexer": "ipython3",
      "version": "3.7.1"
    },
    "colab": {
      "name": "DataSummarization.ipynb",
      "provenance": [],
      "include_colab_link": true
    }
  },
  "cells": [
    {
      "cell_type": "markdown",
      "metadata": {
        "id": "view-in-github",
        "colab_type": "text"
      },
      "source": [
        "<a href=\"https://colab.research.google.com/github/ace26597/DataSummarization/blob/master/DataSummarization.ipynb\" target=\"_parent\"><img src=\"https://colab.research.google.com/assets/colab-badge.svg\" alt=\"Open In Colab\"/></a>"
      ]
    },
    {
      "cell_type": "code",
      "metadata": {
        "id": "FkxH8b629aD_"
      },
      "source": [
        "import bs4 as bs   #beautiful soup , useful Python utility for web scraping"
      ],
      "execution_count": null,
      "outputs": []
    },
    {
      "cell_type": "code",
      "metadata": {
        "id": "EHQQfSm69aED"
      },
      "source": [
        "import urllib.request    # parse XML and HTML"
      ],
      "execution_count": null,
      "outputs": []
    },
    {
      "cell_type": "code",
      "metadata": {
        "id": "RVNziHCP9aEH"
      },
      "source": [
        "import re     #for regular expressions"
      ],
      "execution_count": null,
      "outputs": []
    },
    {
      "cell_type": "code",
      "metadata": {
        "id": "R4Z40DnV9aEL"
      },
      "source": [
        "import nltk         #for nlp processing"
      ],
      "execution_count": null,
      "outputs": []
    },
    {
      "cell_type": "code",
      "metadata": {
        "id": "MzNFPfc-9aER"
      },
      "source": [
        "from nltk.tokenize import word_tokenize"
      ],
      "execution_count": null,
      "outputs": []
    },
    {
      "cell_type": "code",
      "metadata": {
        "id": "nipn5ZYI9aET",
        "outputId": "7217250b-72fd-47b9-cfc2-cbd51d30afb2",
        "colab": {
          "base_uri": "https://localhost:8080/",
          "height": 84
        }
      },
      "source": [
        "nltk.download('maxent_ne_chunker')"
      ],
      "execution_count": null,
      "outputs": [
        {
          "output_type": "stream",
          "text": [
            "[nltk_data] Downloading package maxent_ne_chunker to\n",
            "[nltk_data]     /root/nltk_data...\n",
            "[nltk_data]   Package maxent_ne_chunker is already up-to-date!\n"
          ],
          "name": "stdout"
        },
        {
          "output_type": "execute_result",
          "data": {
            "text/plain": [
              "True"
            ]
          },
          "metadata": {
            "tags": []
          },
          "execution_count": 151
        }
      ]
    },
    {
      "cell_type": "code",
      "metadata": {
        "id": "ubVAXASy9aEW",
        "outputId": "4e87e2f3-d60f-4313-d2a0-8be896799de3",
        "colab": {
          "base_uri": "https://localhost:8080/",
          "height": 67
        }
      },
      "source": [
        "nltk.download('words')"
      ],
      "execution_count": null,
      "outputs": [
        {
          "output_type": "stream",
          "text": [
            "[nltk_data] Downloading package words to /root/nltk_data...\n",
            "[nltk_data]   Package words is already up-to-date!\n"
          ],
          "name": "stdout"
        },
        {
          "output_type": "execute_result",
          "data": {
            "text/plain": [
              "True"
            ]
          },
          "metadata": {
            "tags": []
          },
          "execution_count": 152
        }
      ]
    },
    {
      "cell_type": "code",
      "metadata": {
        "id": "C_Hy7CkA9aEc"
      },
      "source": [
        "scraped_data = urllib.request.urlopen('https://en.wikipedia.org/wiki/Main_Page')     #accessing/scraping wiki data"
      ],
      "execution_count": null,
      "outputs": []
    },
    {
      "cell_type": "code",
      "metadata": {
        "id": "-6AHC0z19aEg"
      },
      "source": [
        "article = scraped_data.read()    #reading the data byte-by-byte"
      ],
      "execution_count": null,
      "outputs": []
    },
    {
      "cell_type": "code",
      "metadata": {
        "id": "0pM3UhHW9aEj",
        "outputId": "13ce0977-2ae6-4a41-9dcc-85dd851d71a7",
        "colab": {
          "base_uri": "https://localhost:8080/",
          "height": 54
        }
      },
      "source": [
        "print(article)"
      ],
      "execution_count": null,
      "outputs": [
        {
          "output_type": "stream",
          "text": [
            "b'<!DOCTYPE html>\\n<html class=\"client-nojs\" lang=\"en\" dir=\"ltr\">\\n<head>\\n<meta charset=\"UTF-8\"/>\\n<title>Wikipedia, the free encyclopedia</title>\\n<script>document.documentElement.className=\"client-js\";RLCONF={\"wgBreakFrames\":!1,\"wgSeparatorTransformTable\":[\"\",\"\"],\"wgDigitTransformTable\":[\"\",\"\"],\"wgDefaultDateFormat\":\"dmy\",\"wgMonthNames\":[\"\",\"January\",\"February\",\"March\",\"April\",\"May\",\"June\",\"July\",\"August\",\"September\",\"October\",\"November\",\"December\"],\"wgRequestId\":\"814da5e7-e292-42d5-a2ee-42119390c4b7\",\"wgCSPNonce\":!1,\"wgCanonicalNamespace\":\"\",\"wgCanonicalSpecialPageName\":!1,\"wgNamespaceNumber\":0,\"wgPageName\":\"Main_Page\",\"wgTitle\":\"Main Page\",\"wgCurRevisionId\":969106986,\"wgRevisionId\":969106986,\"wgArticleId\":15580374,\"wgIsArticle\":!0,\"wgIsRedirect\":!1,\"wgAction\":\"view\",\"wgUserName\":null,\"wgUserGroups\":[\"*\"],\"wgCategories\":[],\"wgPageContentLanguage\":\"en\",\"wgPageContentModel\":\"wikitext\",\"wgRelevantPageName\":\"Main_Page\",\"wgRelevantArticleId\":15580374,\"wgIsProbablyEditable\":!1,\"wgRelevantPageIsProbablyEditable\":!1,\"wgRestrictionEdit\":[\"sysop\"],\"wgRestrictionMove\":[\"sysop\"],\"wgIsMainPage\":!0,\"wgMediaViewerOnClick\":!0,\\n\"wgMediaViewerEnabledByDefault\":!0,\"wgPopupsReferencePreviews\":!1,\"wgPopupsConflictsWithNavPopupGadget\":!1,\"wgVisualEditor\":{\"pageLanguageCode\":\"en\",\"pageLanguageDir\":\"ltr\",\"pageVariantFallbacks\":\"en\"},\"wgMFDisplayWikibaseDescriptions\":{\"search\":!0,\"nearby\":!0,\"watchlist\":!0,\"tagline\":!1},\"wgWMESchemaEditAttemptStepOversample\":!1,\"wgULSCurrentAutonym\":\"English\",\"wgNoticeProject\":\"wikipedia\",\"wgCentralAuthMobileDomain\":!1,\"wgEditSubmitButtonLabelPublish\":!0,\"wgULSPosition\":\"interlanguage\",\"wgWikibaseItemId\":\"Q5296\"};RLSTATE={\"ext.globalCssJs.user.styles\":\"ready\",\"site.styles\":\"ready\",\"noscript\":\"ready\",\"user.styles\":\"ready\",\"ext.globalCssJs.user\":\"ready\",\"user\":\"ready\",\"user.options\":\"loading\",\"skins.vector.styles.legacy\":\"ready\",\"ext.visualEditor.desktopArticleTarget.noscript\":\"ready\",\"ext.uls.interlanguage\":\"ready\",\"ext.wikimediaBadges\":\"ready\"};RLPAGEMODULES=[\"site\",\"mediawiki.page.ready\",\"skins.vector.legacy.js\",\"ext.gadget.ReferenceTooltips\",\\n\"ext.gadget.charinsert\",\"ext.gadget.extra-toolbar-buttons\",\"ext.gadget.refToolbar\",\"ext.gadget.switcher\",\"ext.centralauth.centralautologin\",\"mmv.head\",\"mmv.bootstrap.autostart\",\"ext.popups\",\"ext.visualEditor.desktopArticleTarget.init\",\"ext.visualEditor.targetLoader\",\"ext.eventLogging\",\"ext.wikimediaEvents\",\"ext.navigationTiming\",\"ext.uls.interface\",\"ext.cx.eventlogging.campaigns\",\"ext.centralNotice.geoIP\",\"ext.centralNotice.startUp\"];</script>\\n<script>(RLQ=window.RLQ||[]).push(function(){mw.loader.implement(\"user.options@1hzgi\",function($,jQuery,require,module){/*@nomin*/mw.user.tokens.set({\"patrolToken\":\"+\\\\\\\\\",\"watchToken\":\"+\\\\\\\\\",\"csrfToken\":\"+\\\\\\\\\"});\\n});});</script>\\n<link rel=\"stylesheet\" href=\"/w/load.php?lang=en&amp;modules=ext.uls.interlanguage%7Cext.visualEditor.desktopArticleTarget.noscript%7Cext.wikimediaBadges%7Cskins.vector.styles.legacy&amp;only=styles&amp;skin=vector\"/>\\n<script async=\"\" src=\"/w/load.php?lang=en&amp;modules=startup&amp;only=scripts&amp;raw=1&amp;skin=vector\"></script>\\n<meta name=\"ResourceLoaderDynamicStyles\" content=\"\"/>\\n<link rel=\"stylesheet\" href=\"/w/load.php?lang=en&amp;modules=site.styles&amp;only=styles&amp;skin=vector\"/>\\n<meta name=\"generator\" content=\"MediaWiki 1.36.0-wmf.8\"/>\\n<meta name=\"referrer\" content=\"origin\"/>\\n<meta name=\"referrer\" content=\"origin-when-crossorigin\"/>\\n<meta name=\"referrer\" content=\"origin-when-cross-origin\"/>\\n<meta property=\"og:image\" content=\"https://upload.wikimedia.org/wikipedia/commons/thumb/6/65/Martinsville_Speedway%2C_September_2011_overview.JPG/1200px-Martinsville_Speedway%2C_September_2011_overview.JPG\"/>\\n<link rel=\"alternate\" media=\"only screen and (max-width: 720px)\" href=\"//en.m.wikipedia.org/wiki/Main_Page\"/>\\n<link rel=\"alternate\" type=\"application/atom+xml\" title=\"Wikipedia picture of the day feed\" href=\"/w/api.php?action=featuredfeed&amp;feed=potd&amp;feedformat=atom\"/>\\n<link rel=\"alternate\" type=\"application/atom+xml\" title=\"Wikipedia featured articles feed\" href=\"/w/api.php?action=featuredfeed&amp;feed=featured&amp;feedformat=atom\"/>\\n<link rel=\"alternate\" type=\"application/atom+xml\" title=\"Wikipedia &quot;On this day...&quot; feed\" href=\"/w/api.php?action=featuredfeed&amp;feed=onthisday&amp;feedformat=atom\"/>\\n<link rel=\"apple-touch-icon\" href=\"/static/apple-touch/wikipedia.png\"/>\\n<link rel=\"shortcut icon\" href=\"/static/favicon/wikipedia.ico\"/>\\n<link rel=\"search\" type=\"application/opensearchdescription+xml\" href=\"/w/opensearch_desc.php\" title=\"Wikipedia (en)\"/>\\n<link rel=\"EditURI\" type=\"application/rsd+xml\" href=\"//en.wikipedia.org/w/api.php?action=rsd\"/>\\n<link rel=\"license\" href=\"//creativecommons.org/licenses/by-sa/3.0/\"/>\\n<link rel=\"canonical\" href=\"https://en.wikipedia.org/wiki/Main_Page\"/>\\n<link rel=\"dns-prefetch\" href=\"//login.wikimedia.org\"/>\\n<link rel=\"dns-prefetch\" href=\"//meta.wikimedia.org\" />\\n</head>\\n<body class=\"mediawiki ltr sitedir-ltr mw-hide-empty-elt ns-0 ns-subject page-Main_Page rootpage-Main_Page skin-vector action-view skin-vector-legacy\"><div id=\"mw-page-base\" class=\"noprint\"></div>\\n<div id=\"mw-head-base\" class=\"noprint\"></div>\\n<div id=\"content\" class=\"mw-body\" role=\"main\">\\n\\t<a id=\"top\"></a>\\n\\t<div id=\"siteNotice\" class=\"mw-body-content\"><!-- CentralNotice --></div>\\n\\t<div class=\"mw-indicators mw-body-content\">\\n\\t</div>\\n\\t<h1 id=\"firstHeading\" class=\"firstHeading\" lang=\"en\">Main Page</h1>\\n\\t<div id=\"bodyContent\" class=\"mw-body-content\">\\n\\t\\t<div id=\"siteSub\" class=\"noprint\">From Wikipedia, the free encyclopedia</div>\\n\\t\\t<div id=\"contentSub\"></div>\\n\\t\\t<div id=\"contentSub2\"></div>\\n\\t\\t\\n\\t\\t<div id=\"jump-to-nav\"></div>\\n\\t\\t<a class=\"mw-jump-link\" href=\"#mw-head\">Jump to navigation</a>\\n\\t\\t<a class=\"mw-jump-link\" href=\"#searchInput\">Jump to search</a>\\n\\t\\t<div id=\"mw-content-text\" lang=\"en\" dir=\"ltr\" class=\"mw-content-ltr\"><div class=\"mw-parser-output\"><style data-mw-deduplicate=\"TemplateStyles:r960812034\">.mw-parser-output #mp-topbanner{clear:both;position:relative;box-sizing:border-box;width:100%;margin-top:1.2em;min-width:47em;border-color:#ddd;background-color:#f9f9f9;white-space:nowrap}.mw-parser-output .mp-bordered,.mw-parser-output .mp-h2,body.skin-timeless .mw-parser-output .mp-h2{border-width:1px;border-style:solid}.mw-parser-output #mp-topbanner,.mw-parser-output .mp-h2,.mw-parser-output #mp-left{color:#000}.mw-parser-output #mp-welcomecount{margin:0.4em;width:22em;text-align:center}.mw-parser-output #mp-welcome{font-size:162%;padding:0.1em}.mw-parser-output #mp-free{font-size:95%}.mw-parser-output #articlecount{font-size:85%}.mw-parser-output #mp-portals{position:absolute;right:-1em;top:50%;margin-top:-2.4em;width:38%;min-width:25em;font-size:95%}.mw-parser-output #mp-portals li{position:absolute;left:0;top:0}.mw-parser-output #mp-portals .portal-hmid{left:33%}.mw-parser-output #mp-portals .portal-hright{left:66%}.mw-parser-output #mp-portals .portal-vmid{top:1.6em}.mw-parser-output #mp-portals .portal-vbot{top:3.2em}.mw-parser-output .portal-hright.portal-vbot{font-weight:bold}.mw-parser-output #mp-banner{margin-top:4px;padding:0.5em;background-color:#fffaf5;border-color:#f2e0ce}.mw-parser-output .mp-h2,body.skin-timeless .mw-parser-output .mp-h2{margin:0.5em;padding:0.2em 0.4em;font-size:120%;font-weight:bold;font-family:inherit}body.skin-timeless .mw-parser-output .mp-h2::after{border:none}.mw-parser-output .mp-later{font-size:85%;font-weight:normal}.mw-parser-output #mp-upper{width:100%;margin-top:4px;margin-bottom:0;border-spacing:0;border-collapse:separate}.mw-parser-output #mp-upper .mid-table{border-color:transparent}.mw-parser-output #mp-left{width:55%;border-color:#cef2e0;background:#f5fffa}.mw-parser-output #mp-right{width:45%;border-color:#cedff2;background:#f5faff}.mw-parser-output #mp-left,.mw-parser-output #mp-right{padding:0;vertical-align:top}.mw-parser-output #mp-left .mp-h2{background:#cef2e0;border-color:#a3bfb1}.mw-parser-output #mp-right .mp-h2{background:#cedff2;border-color:#a3b0bf}.mw-parser-output #mp-tfa,.mw-parser-output #mp-dyk,.mw-parser-output #mp-itn,.mw-parser-output #mp-otd,.mw-parser-output #mp-other-lower>div{padding:0.1em 0.6em}.mw-parser-output #mp-dyk-h2,.mw-parser-output #mp-otd-h2{clear:both}.mw-parser-output #mp-middle{margin-top:4px;border-color:#f2cedd;background:#fff5fa}.mw-parser-output #mp-middle,.mw-parser-output #mp-lower,.mw-parser-output #mp-other-lower{overflow:auto}.mw-parser-output #mp-tfl-h2{background:#f2cedd;border-color:#bfa3af}.mw-parser-output #mp-tfl{padding:0.3em 0.7em}.mw-parser-output #mp-lower{margin-top:4px;border-color:#ddcef2;background:#faf5ff}.mw-parser-output #mp-tfp-h2{background:#ddcef2;border-color:#afa3bf}.mw-parser-output #mp-tfp{margin:0.1em 0.4em 0.6em}.mw-parser-output #mp-other-lower{padding:0;border-color:#e2e2e2;margin-top:4px}.mw-parser-output #mp-dyk,.mw-parser-output #mp-otd,.mw-parser-output #mp-other-lower{padding-bottom:0.5em}.mw-parser-output #mp-other-lower .mp-h2{background:#eee;border-color:#ddd;color:#222}@media(max-width:875px){body.skin-minerva .mw-parser-output #mp-welcomecount,body.skin-timeless .mw-parser-output #mp-welcomecount{width:auto}body.skin-minerva .mw-parser-output #mp-topbanner,body.skin-timeless .mw-parser-output #mp-topbanner{min-width:0;white-space:normal}body.skin-minerva .mw-parser-output #mp-portals,body.skin-timeless .mw-parser-output #mp-portals{display:block;position:static;width:auto;min-width:0;text-align:center;margin:0 auto;border-top:1px solid #ddd;padding:0.4em 0;margin:0 0.4em}body.skin-minerva .mw-parser-output #mp-portals li,body.skin-timeless .mw-parser-output #mp-portals li{position:static;display:inline;padding:0 5px}body.skin-minerva .mw-parser-output #mp-topbanner .portal-hright,body.skin-timeless .mw-parser-output #mp-topbanner .portal-hright{white-space:nowrap}body.skin-minerva .mw-parser-output table,body.skin-minerva .mw-parser-output tr,body.skin-minerva .mw-parser-output td,body.skin-minerva .mw-parser-output tbody,body.skin-timeless .mw-parser-output table,body.skin-timeless .mw-parser-output tr,body.skin-timeless .mw-parser-output td,body.skin-timeless .mw-parser-output tbody{display:block!important;width:100%!important;box-sizing:border-box}body.skin-minerva .mw-parser-output #mp-tfp tr:first-child td:first-child a,body.skin-timeless .mw-parser-output #mp-tfp tr:first-child td:first-child a{text-align:center;display:table;margin:0 auto}}</style>\\n<div id=\"mp-topbanner\" class=\"mp-bordered\">\\n<div id=\"mp-welcomecount\">\\n<div id=\"mp-welcome\">Welcome to <a href=\"/wiki/Wikipedia\" title=\"Wikipedia\">Wikipedia</a>,</div>\\n<div id=\"mp-free\">the <a href=\"/wiki/Free_content\" title=\"Free content\">free</a> <a href=\"/wiki/Encyclopedia\" title=\"Encyclopedia\">encyclopedia</a> that <a href=\"/wiki/Help:Introduction_to_Wikipedia\" title=\"Help:Introduction to Wikipedia\">anyone can edit</a>.</div>\\n<div id=\"articlecount\"><a href=\"/wiki/Special:Statistics\" title=\"Special:Statistics\">6,158,529</a> articles in <a href=\"/wiki/English_language\" title=\"English language\">English</a></div>\\n</div>\\n<ul id=\"mp-portals\">\\n<li><a href=\"/wiki/Portal:Arts\" title=\"Portal:Arts\">Arts</a></li>\\n<li class=\"portal-vmid\"><a href=\"/wiki/Portal:Biography\" title=\"Portal:Biography\">Biography</a></li>\\n<li class=\"portal-vbot\"><a href=\"/wiki/Portal:Geography\" title=\"Portal:Geography\">Geography</a></li>\\n<li class=\"portal-hmid\"><a href=\"/wiki/Portal:History\" title=\"Portal:History\">History</a></li>\\n<li class=\"portal-hmid portal-vmid\"><a href=\"/wiki/Portal:Mathematics\" title=\"Portal:Mathematics\">Mathematics</a></li>\\n<li class=\"portal-hmid portal-vbot\"><a href=\"/wiki/Portal:Science\" title=\"Portal:Science\">Science</a></li>\\n<li class=\"portal-hright\"><a href=\"/wiki/Portal:Society\" title=\"Portal:Society\">Society</a></li>\\n<li class=\"portal-hright portal-vmid\"><a href=\"/wiki/Portal:Technology\" title=\"Portal:Technology\">Technology</a></li>\\n<li class=\"portal-hright portal-vbot\"><a href=\"/wiki/Wikipedia:Contents/Portals\" title=\"Wikipedia:Contents/Portals\">All portals</a></li>\\n</ul>\\n</div>\\n<table role=\"presentation\" id=\"mp-upper\">\\n<tbody><tr>\\n<td id=\"mp-left\" class=\"MainPageBG mp-bordered\">\\n<h2 id=\"mp-tfa-h2\" class=\"mp-h2\"><span id=\"From_today.27s_featured_article\"></span><span class=\"mw-headline\" id=\"From_today\\'s_featured_article\">From today\\'s featured article</span></h2>\\n<div id=\"mp-tfa\"><div id=\"mp-tfa-img\" style=\"float: left; margin: 0.5em 0.9em 0.4em 0em;\">\\n<div class=\"thumbinner mp-thumb\" style=\"background: transparent; border: none; padding: 0; max-width: 162px;\">\\n<a href=\"/wiki/File:Martinsville_Speedway,_September_2011_overview.JPG\" class=\"image\" title=\"Martinsville Speedway\"><img alt=\"Martinsville Speedway\" src=\"//upload.wikimedia.org/wikipedia/commons/thumb/6/65/Martinsville_Speedway%2C_September_2011_overview.JPG/162px-Martinsville_Speedway%2C_September_2011_overview.JPG\" decoding=\"async\" width=\"162\" height=\"122\" srcset=\"//upload.wikimedia.org/wikipedia/commons/thumb/6/65/Martinsville_Speedway%2C_September_2011_overview.JPG/243px-Martinsville_Speedway%2C_September_2011_overview.JPG 1.5x, //upload.wikimedia.org/wikipedia/commons/thumb/6/65/Martinsville_Speedway%2C_September_2011_overview.JPG/324px-Martinsville_Speedway%2C_September_2011_overview.JPG 2x\" data-file-width=\"1333\" data-file-height=\"1000\" /></a><div class=\"thumbcaption\" style=\"padding: 0.25em 0; word-wrap: break-word;\">Martinsville Speedway</div></div>\\n</div>\\n<p>The <b><a href=\"/wiki/2006_Subway_500\" title=\"2006 Subway 500\">2006 Subway&#160;500</a></b> was the 32nd <a href=\"/wiki/Stock_car_racing\" title=\"Stock car racing\">stock car race</a> of the <a href=\"/wiki/2006_NASCAR_Nextel_Cup_Series\" title=\"2006 NASCAR Nextel Cup Series\">2006 NASCAR Nextel Cup Series</a> and the sixth in the ten-race <a href=\"/wiki/NASCAR_playoffs\" title=\"NASCAR playoffs\">Chase for the Nextel Cup</a>. It was held on October&#160;22, 2006, before a crowd of 65,000, at <a href=\"/wiki/Martinsville_Speedway\" title=\"Martinsville Speedway\">Martinsville Speedway</a> <i>(pictured)</i> in <a href=\"/wiki/Martinsville,_Virginia\" title=\"Martinsville, Virginia\">Martinsville, Virginia</a>, one of five <a href=\"/wiki/Oval_track_racing#Short_track\" title=\"Oval track racing\">short tracks</a> to hold <a href=\"/wiki/NASCAR\" title=\"NASCAR\">NASCAR</a> races. The 500-lap race was won by <a href=\"/wiki/Jimmie_Johnson\" title=\"Jimmie Johnson\">Jimmie Johnson</a> of <a href=\"/wiki/Hendrick_Motorsports\" title=\"Hendrick Motorsports\">Hendrick Motorsports</a>; <a href=\"/wiki/Denny_Hamlin\" title=\"Denny Hamlin\">Denny Hamlin</a> finished second, and <a href=\"/wiki/Bobby_Labonte\" title=\"Bobby Labonte\">Bobby Labonte</a> came in third. <a href=\"/wiki/Kurt_Busch\" title=\"Kurt Busch\">Kurt Busch</a> won the <a href=\"/wiki/Pole_position\" title=\"Pole position\">pole position</a> with the fastest time in qualifying; Johnson started from ninth position. There were 18 <a href=\"/wiki/Racing_flags#Yellow_flag\" title=\"Racing flags\">cautions</a> and 16 lead changes by five different drivers during the race. Johnson\\'s win was his fifth of the 2006 season, and the 23rd of his career. The result advanced him to third in the <a href=\"/wiki/List_of_NASCAR_Cup_Series_champions\" title=\"List of NASCAR Cup Series champions\">Drivers\\' Championship</a>, 41 points behind <a href=\"/wiki/Matt_Kenseth\" title=\"Matt Kenseth\">Matt Kenseth</a>, who took over the championship lead after <a href=\"/wiki/Jeff_Burton\" title=\"Jeff Burton\">Jeff Burton</a> retired from the race. <a href=\"/wiki/Chevrolet\" title=\"Chevrolet\">Chevrolet</a> maintained its lead in the <a href=\"/wiki/List_of_NASCAR_Manufacturers%27_champions\" title=\"List of NASCAR Manufacturers&#39; champions\">Manufacturers\\' Championship</a> with four races left in the season. (<b><a href=\"/wiki/2006_Subway_500\" title=\"2006 Subway 500\">Full&#160;article...</a></b>)\\n</p>\\n<div class=\"tfa-recent\" style=\"text-align: right;\">\\nRecently featured: <div class=\"hlist hlist-separated inline\">\\n<ul><li><a href=\"/wiki/U.S._Route_141\" title=\"U.S. Route 141\">U.S. Route&#160;141</a></li>\\n<li><i><a href=\"/wiki/Super_Mario_All-Stars\" title=\"Super Mario All-Stars\">Super Mario All-Stars</a></i></li>\\n<li><a href=\"/wiki/Qibla\" title=\"Qibla\">Qibla</a></li></ul>\\n</div></div>\\n<div class=\"tfa-footer hlist hlist-separated noprint\" style=\"text-align: right;\">\\n<ul><li><b><a href=\"/wiki/Wikipedia:Today%27s_featured_article/September_2020\" title=\"Wikipedia:Today&#39;s featured article/September 2020\">Archive</a></b></li>\\n<li><b><a href=\"https://lists.wikimedia.org/mailman/listinfo/daily-article-l\" class=\"extiw\" title=\"mail:daily-article-l\">By email</a></b></li>\\n<li><b><a href=\"/wiki/Wikipedia:Featured_articles\" title=\"Wikipedia:Featured articles\">More featured articles</a></b></li></ul>\\n</div></div>\\n<h2 id=\"mp-dyk-h2\" class=\"mp-h2\"><span class=\"mw-headline\" id=\"Did_you_know_...\">Did you know&#160;...</span></h2>\\n<div id=\"mp-dyk\">\\n<div class=\"dyk-img\" style=\"float: right; margin-left: 0.5em;\">\\n<div class=\"thumbinner mp-thumb\" style=\"background: transparent; border: none; padding: 0; max-width: 114px;\">\\n<a href=\"/wiki/File:The_Lightship_(4973890411)_(2).jpg\" class=\"image\" title=\"Light Vessel&#160;72 in 2010\"><img alt=\"Light Vessel&#160;72 in 2010\" src=\"//upload.wikimedia.org/wikipedia/commons/thumb/8/83/The_Lightship_%284973890411%29_%282%29.jpg/114px-The_Lightship_%284973890411%29_%282%29.jpg\" decoding=\"async\" width=\"114\" height=\"172\" srcset=\"//upload.wikimedia.org/wikipedia/commons/thumb/8/83/The_Lightship_%284973890411%29_%282%29.jpg/171px-The_Lightship_%284973890411%29_%282%29.jpg 1.5x, //upload.wikimedia.org/wikipedia/commons/thumb/8/83/The_Lightship_%284973890411%29_%282%29.jpg/228px-The_Lightship_%284973890411%29_%282%29.jpg 2x\" data-file-width=\"832\" data-file-height=\"1256\" /></a><div class=\"thumbcaption\" style=\"padding: 0.25em 0; word-wrap: break-word;\"><i>Light Vessel&#160;72</i> in 2010</div></div>\\n</div>\\n<ul><li>... that <i><b><a href=\"/wiki/Light_Vessel_72\" title=\"Light Vessel 72\">Light Vessel&#160;72</a></b></i> <i>(pictured)</i>, which helped mark the route to the <a href=\"/wiki/Normandy_landings\" title=\"Normandy landings\">Normandy landing beaches</a>, has lain in a Welsh scrapyard since 1973?</li>\\n<li>... that sports team owner <b><a href=\"/wiki/Dell_Loy_Hansen\" title=\"Dell Loy Hansen\">Dell Loy Hansen</a></b> purchased a <a href=\"/wiki/1894-S_Barber_dime\" title=\"1894-S Barber dime\">rare dime</a> for $1.3&#160;million?</li>\\n<li>... that <b><a href=\"/wiki/List_of_members_of_the_National_Assembly_of_Kenya,_2017%E2%80%93present\" title=\"List of members of the National Assembly of Kenya, 2017\\xe2\\x80\\x93present\">the current Kenyan National Assembly</a></b> is made up of 290 constituency elected members including <b><a href=\"/wiki/Samuel_Arama\" title=\"Samuel Arama\">Samuel Arama</a></b>, 47 <b><a href=\"/wiki/County_woman_representative\" title=\"County woman representative\">county woman representatives</a></b> including <b><a href=\"/wiki/Gladys_Boss_Shollei\" title=\"Gladys Boss Shollei\">Gladys Boss Shollei</a></b> and <b><a href=\"/wiki/Sabina_Wanjiru_Chege\" title=\"Sabina Wanjiru Chege\">Sabina Wanjiru Chege</a></b>, and 12 appointed members including <b><a href=\"/wiki/Dennitah_Ghati\" title=\"Dennitah Ghati\">Dennitah Ghati</a></b>?</li>\\n<li>... that the hermit crab <i><b><a href=\"/wiki/Paguristes_cadenati\" title=\"Paguristes cadenati\">Paguristes cadenati</a></b></i> can help keep a <a href=\"/wiki/Reef_aquarium\" title=\"Reef aquarium\">reef aquarium</a> clean?</li>\\n<li>... that <a href=\"/wiki/Travis_Denning\" title=\"Travis Denning\">Travis Denning</a> illegally used <b><a href=\"/wiki/David_Ashley_Parker_from_Powder_Springs\" title=\"David Ashley Parker from Powder Springs\">David Ashley Parker from Powder Springs</a></b><span class=\"nowrap\">&#39;s</span> identity before including him in a music video?</li>\\n<li>... that Tokyo\\'s <b><a href=\"/wiki/Shibuya_Route\" title=\"Shibuya Route\">Shibuya Route</a></b> is key to the plot of the novel <i><a href=\"/wiki/1Q84\" title=\"1Q84\">1Q84</a></i>, where it contains a fictitious stairway to another reality in its storyline?</li>\\n<li>... that <b><a href=\"/wiki/1_Wall_Street_Court\" title=\"1 Wall Street Court\">1&#160;Wall Street Court</a></b>, a <a href=\"/wiki/Condominium\" title=\"Condominium\">condominium</a> building, was once the headquarters of a shipping line and the world\\'s largest cocoa <a href=\"/wiki/Futures_exchange\" title=\"Futures exchange\">futures market</a>?</li>\\n<li>... that <b><a href=\"/wiki/Moop_Mama\" title=\"Moop Mama\">Moop Mama</a></b>, a band of seven brass players, two drummers, and a rapper, began \"guerilla concerts\" in Munich\\'s <a href=\"/wiki/Englischer_Garten\" title=\"Englischer Garten\">Englischer Garten</a> in 2009?</li></ul>\\n<div class=\"dyk-footer hlist hlist-separated noprint\" style=\"margin-top: 0.5em; text-align: right;\">\\n<ul><li><b><a href=\"/wiki/Wikipedia:Recent_additions\" title=\"Wikipedia:Recent additions\">Archive</a></b></li>\\n<li><b><a href=\"/wiki/Help:Your_first_article\" title=\"Help:Your first article\">Start a new article</a></b></li>\\n<li><b><a href=\"/wiki/Template_talk:Did_you_know\" title=\"Template talk:Did you know\">Nominate an article</a></b></li></ul>\\n</div>\\n</div>\\n</td>\\n<td class=\"mp-bordered mid-table\">\\n</td>\\n<td id=\"mp-right\" class=\"MainPageBG mp-bordered\">\\n<h2 id=\"mp-itn-h2\" class=\"mp-h2\"><span class=\"mw-headline\" id=\"In_the_news\">In the news</span></h2>\\n<div id=\"mp-itn\"><style data-mw-deduplicate=\"TemplateStyles:r976327607\">.mw-parser-output .itn-special{margin:0px 1px 4px 1px;padding:5px;text-align:center;border-style:solid;background:#fafcfe;border:1px solid #a3b0bf}</style><div class=\"itn-special hlist hlist-separated\">\\n<dl><dt><a href=\"/wiki/COVID-19_pandemic\" title=\"COVID-19 pandemic\"><span class=\"nowrap\">COVID-19</span> pandemic</a></dt>\\n<dd><a href=\"/wiki/Coronavirus_disease_2019\" title=\"Coronavirus disease 2019\">Disease</a></dd>\\n<dd><a href=\"/wiki/Severe_acute_respiratory_syndrome_coronavirus_2\" title=\"Severe acute respiratory syndrome coronavirus 2\">Virus</a></dd>\\n<dd><a href=\"/wiki/COVID-19_pandemic_by_country_and_territory\" title=\"COVID-19 pandemic by country and territory\"><span class=\"nowrap\">By location</span></a></dd>\\n<dd><a href=\"/wiki/Impact_of_the_COVID-19_pandemic\" title=\"Impact of the COVID-19 pandemic\">Impact</a></dd>\\n<dd><a href=\"/wiki/Portal:Coronavirus_disease_2019\" title=\"Portal:Coronavirus disease 2019\">Portal</a></dd></dl>\\n</div>\\n<div role=\"figure\" class=\"itn-img\" style=\"float: right; margin-left: 0.5em; margin-top: 0.2em;\">\\n<div class=\"thumbinner mp-thumb\" style=\"background: transparent; border: none; padding: 0; max-width: 140px;\">\\n<a href=\"/wiki/File:PIA23791-Venus-NewlyProcessedView-20200608.jpg\" class=\"image\" title=\"Contrast-enhanced false color view of Venus\"><img alt=\"Contrast-enhanced false color view of Venus\" src=\"//upload.wikimedia.org/wikipedia/commons/thumb/a/a9/PIA23791-Venus-NewlyProcessedView-20200608.jpg/140px-PIA23791-Venus-NewlyProcessedView-20200608.jpg\" decoding=\"async\" width=\"140\" height=\"140\" srcset=\"//upload.wikimedia.org/wikipedia/commons/thumb/a/a9/PIA23791-Venus-NewlyProcessedView-20200608.jpg/210px-PIA23791-Venus-NewlyProcessedView-20200608.jpg 1.5x, //upload.wikimedia.org/wikipedia/commons/thumb/a/a9/PIA23791-Venus-NewlyProcessedView-20200608.jpg/280px-PIA23791-Venus-NewlyProcessedView-20200608.jpg 2x\" data-file-width=\"1096\" data-file-height=\"1096\" /></a><div class=\"thumbcaption\" style=\"padding: 0.25em 0; word-wrap: break-word; text-align: left;\">Venus</div></div>\\n</div>\\n<ul><li>Astronomers report the detection of <a href=\"/wiki/Phosphine\" title=\"Phosphine\">phosphine</a>, a possible signature of <a href=\"/wiki/Life_on_Venus\" title=\"Life on Venus\">organic life</a>, in <a href=\"/wiki/Atmosphere_of_Venus\" title=\"Atmosphere of Venus\">the atmosphere</a> of <b><a href=\"/wiki/Venus\" title=\"Venus\">Venus</a></b> <i>(pictured)</i>.</li>\\n<li><b><a href=\"/wiki/2020_Western_United_States_wildfires\" title=\"2020 Western United States wildfires\">Wildfires in the Western United States</a></b> kill at least 35 people and burn more than 7,200 square miles (19,000&#160;km<sup>2</sup>) of land.</li>\\n<li><a href=\"/wiki/Andrew_Holness\" title=\"Andrew Holness\">Andrew Holness</a> is sworn in as <a href=\"/wiki/Prime_Minister_of_Jamaica\" title=\"Prime Minister of Jamaica\">Prime Minister</a> after the <a href=\"/wiki/Jamaica_Labour_Party\" title=\"Jamaica Labour Party\">Jamaica Labour Party</a> win <b><a href=\"/wiki/2020_Jamaican_general_election\" title=\"2020 Jamaican general election\">the general election</a></b>.</li>\\n<li><b><a href=\"/wiki/2020_Sudan_floods\" title=\"2020 Sudan floods\">Flooding in Sudan</a></b> kills at least 100 people and leaves more than 100,000 others homeless.</li></ul>\\n<div class=\"itn-footer\" style=\"margin-top: 0.5em;\">\\n<div><b><a href=\"/wiki/Portal:Current_events\" title=\"Portal:Current events\">Ongoing</a></b>: <div class=\"hlist hlist-separated inline\">\\n<ul><li><a href=\"/wiki/2020_Belarusian_protests\" title=\"2020 Belarusian protests\">Belarusian protests</a></li></ul></div></div>\\n<div><b><a href=\"/wiki/Deaths_in_2020\" title=\"Deaths in 2020\">Recent deaths</a></b>&#58; <div class=\"hlist hlist-separated inline\">\\n<ul><li><a href=\"/wiki/Mark_Newman_(baseball)\" title=\"Mark Newman (baseball)\">Mark Newman</a></li>\\n<li><a href=\"/wiki/Aline_Chr%C3%A9tien\" title=\"Aline Chr\\xc3\\xa9tien\">Aline Chr\\xc3\\xa9tien</a></li>\\n<li><a href=\"/wiki/John_Fahey_(politician)\" title=\"John Fahey (politician)\">John Fahey</a></li>\\n<li><a href=\"/wiki/Kathleen_Byerly\" title=\"Kathleen Byerly\">Kathleen Byerly</a></li>\\n<li><a href=\"/wiki/Toots_Hibbert\" title=\"Toots Hibbert\">Toots Hibbert</a></li>\\n<li><a href=\"/wiki/Agnivesh\" title=\"Agnivesh\">Agnivesh</a></li></ul></div></div></div>\\n<div class=\"itn-footer hlist hlist-separated noprint\" style=\"text-align: right;\">\\n<ul><li><b><a href=\"/wiki/Wikipedia:In_the_news/Candidates\" title=\"Wikipedia:In the news/Candidates\">Nominate an article</a></b></li></ul></div></div>\\n<h2 id=\"mp-otd-h2\" class=\"mp-h2\"><span class=\"mw-headline\" id=\"On_this_day\">On this day</span></h2>\\n<div id=\"mp-otd\">\\n<p><b><a href=\"/wiki/September_15\" title=\"September 15\">September 15</a></b>: <b><a href=\"/wiki/Battle_of_Britain_Day\" title=\"Battle of Britain Day\">Battle of Britain Day</a></b> in the United Kingdom (<a href=\"/wiki/1940\" title=\"1940\">1940</a>); <b><a href=\"/wiki/Free_Money_Day\" title=\"Free Money Day\">Free Money Day</a></b>\\n</p>\\n<div style=\"float:right;margin-left:0.5em;\" id=\"mp-otd-img\">\\n<div style=\"float:right;margin-left:0.5em;\" id=\"mp-otd-img\">\\n<div class=\"thumbinner mp-thumb\" style=\"background: transparent; border: none; padding: 0; max-width: 172px;\">\\n<a href=\"/wiki/File:Congress_of_Racial_Equality_and_members_of_the_All_Souls_Church,_Unitarian_march_in_memory_of_the_16th_Street_Baptist_Church_bombing_victims.jpg\" class=\"image\" title=\"March in memory of 16th&#160;Street Baptist Church bombing victims\"><img alt=\"March in memory of 16th&#160;Street Baptist Church bombing victims\" src=\"//upload.wikimedia.org/wikipedia/commons/thumb/a/ad/Congress_of_Racial_Equality_and_members_of_the_All_Souls_Church%2C_Unitarian_march_in_memory_of_the_16th_Street_Baptist_Church_bombing_victims.jpg/172px-Congress_of_Racial_Equality_and_members_of_the_All_Souls_Church%2C_Unitarian_march_in_memory_of_the_16th_Street_Baptist_Church_bombing_victims.jpg\" decoding=\"async\" width=\"172\" height=\"114\" srcset=\"//upload.wikimedia.org/wikipedia/commons/thumb/a/ad/Congress_of_Racial_Equality_and_members_of_the_All_Souls_Church%2C_Unitarian_march_in_memory_of_the_16th_Street_Baptist_Church_bombing_victims.jpg/258px-Congress_of_Racial_Equality_and_members_of_the_All_Souls_Church%2C_Unitarian_march_in_memory_of_the_16th_Street_Baptist_Church_bombing_victims.jpg 1.5x, //upload.wikimedia.org/wikipedia/commons/thumb/a/ad/Congress_of_Racial_Equality_and_members_of_the_All_Souls_Church%2C_Unitarian_march_in_memory_of_the_16th_Street_Baptist_Church_bombing_victims.jpg/344px-Congress_of_Racial_Equality_and_members_of_the_All_Souls_Church%2C_Unitarian_march_in_memory_of_the_16th_Street_Baptist_Church_bombing_victims.jpg 2x\" data-file-width=\"4856\" data-file-height=\"3220\" /></a><div class=\"thumbcaption\" style=\"padding: 0.25em 0; word-wrap: break-word;\">March in memory of 16th&#160;Street Baptist Church bombing victims</div></div>\\n</div>\\n</div>\\n<ul><li><a href=\"/wiki/1795\" title=\"1795\">1795</a> \\xe2\\x80\\x93 <a href=\"/wiki/French_Revolutionary_Wars\" title=\"French Revolutionary Wars\">French Revolutionary Wars</a>: Great Britain <b><a href=\"/wiki/Invasion_of_the_Cape_Colony\" title=\"Invasion of the Cape Colony\">seized</a></b> the <a href=\"/wiki/Dutch_Cape_Colony\" title=\"Dutch Cape Colony\">Dutch Cape Colony</a> to use its facilities against the <a href=\"/wiki/French_Navy\" title=\"French Navy\">French Navy</a>.</li>\\n<li><a href=\"/wiki/1816\" title=\"1816\">1816</a> \\xe2\\x80\\x93 <b><a href=\"/wiki/HMS_Whiting_(1812)\" title=\"HMS Whiting (1812)\">HMS&#160;<i>Whiting</i></a></b> ran aground on the <b><a href=\"/wiki/Doom_Bar\" title=\"Doom Bar\">Doom Bar</a></b> on the coast of <a href=\"/wiki/Cornwall\" title=\"Cornwall\">Cornwall</a>, England.</li>\\n<li><a href=\"/wiki/1935\" title=\"1935\">1935</a> \\xe2\\x80\\x93 <a href=\"/wiki/Nazi_Germany\" title=\"Nazi Germany\">Nazi Germany</a> enacted the <b><a href=\"/wiki/Nuremberg_Laws\" title=\"Nuremberg Laws\">Nuremberg Laws</a></b>, which deprived Jews of their citizenship.</li>\\n<li><a href=\"/wiki/1944\" title=\"1944\">1944</a> \\xe2\\x80\\x93 <a href=\"/wiki/World_War_II\" title=\"World War II\">World War&#160;II</a>: The <a href=\"/wiki/Greek_People%27s_Liberation_Army\" title=\"Greek People&#39;s Liberation Army\">Greek People\\'s Liberation Army</a> won the <b><a href=\"/wiki/Battle_of_Meligalas\" title=\"Battle of Meligalas\">Battle of Meligalas</a></b> and began the execution of many <a href=\"/wiki/Prisoner_of_war\" title=\"Prisoner of war\">prisoners of war</a> and civilians.</li>\\n<li><a href=\"/wiki/1963\" title=\"1963\">1963</a> \\xe2\\x80\\x93 The <a href=\"/wiki/Ku_Klux_Klan\" title=\"Ku Klux Klan\">Ku Klux Klan</a> <b><a href=\"/wiki/16th_Street_Baptist_Church_bombing\" title=\"16th Street Baptist Church bombing\">bombed</a></b> the <a href=\"/wiki/16th_Street_Baptist_Church\" title=\"16th Street Baptist Church\">16th Street Baptist Church</a>, an African-American church in <a href=\"/wiki/Birmingham,_Alabama\" title=\"Birmingham, Alabama\">Birmingham, Alabama</a>, killing four girls and injuring at least 14 other people <i>(memorial march pictured)</i>.</li></ul>\\n<div class=\"hlist hlist-separated\" style=\"margin-top: 0.5em;\"><ul><li><b><a href=\"/wiki/Catherine_of_Genoa\" title=\"Catherine of Genoa\">Catherine of Genoa</a></b>  (<abbr title=\"died\">d.</abbr>&#160;1510)</li><li><b><a href=\"/wiki/Phil_Lamason\" title=\"Phil Lamason\">Phil Lamason</a></b>  (<abbr title=\"born\">b.</abbr>&#160;1918)</li><li><b><a href=\"/wiki/Signe_Toly_Anderson\" title=\"Signe Toly Anderson\">Signe Toly Anderson</a></b>  (<abbr title=\"born\">b.</abbr>&#160;1941)</li></ul></div>\\n<div style=\"margin-top: 0.5em;\">\\nMore anniversaries: <div class=\"hlist hlist-separated inline nowraplinks\">\\n<ul><li><a href=\"/wiki/September_14\" title=\"September 14\">September 14</a></li>\\n<li><b><a href=\"/wiki/September_15\" title=\"September 15\">September 15</a></b></li>\\n<li><a href=\"/wiki/September_16\" title=\"September 16\">September 16</a></li></ul>\\n</div></div>\\n<div class=\"otd-footer hlist hlist-separated noprint\" style=\"text-align: right;\">\\n<ul><li><b><a href=\"/wiki/Wikipedia:Selected_anniversaries/September\" title=\"Wikipedia:Selected anniversaries/September\">Archive</a></b></li>\\n<li><b><a href=\"https://lists.wikimedia.org/mailman/listinfo/daily-article-l\" class=\"extiw\" title=\"mail:daily-article-l\">By email</a></b></li>\\n<li><b><a href=\"/wiki/List_of_historical_anniversaries\" title=\"List of historical anniversaries\">List of historical anniversaries</a></b></li></ul>\\n</div></div>\\n</td></tr></tbody></table>\\n<div id=\"mp-lower\" class=\"MainPageBG mp-bordered\">\\n<div id=\"mp-bottom\">\\n<h2 id=\"mp-tfp-h2\" class=\"mp-h2\"><span id=\"Today.27s_featured_picture\"></span><span class=\"mw-headline\" id=\"Today\\'s_featured_picture\">Today\\'s featured picture</span></h2>\\n<div id=\"mp-tfp\">\\n<table role=\"presentation\" style=\"margin:0 3px 3px; width:100%; box-sizing:border-box; text-align:left; background-color:transparent; border-collapse:collapse;\">\\n<tbody><tr>\\n<td style=\"padding:0 0.9em 0 0; width:350px;\"><a href=\"/wiki/File:Horse_Gram_BNC.jpg\" class=\"image\" title=\"Macrotyloma uniflorum\"><img alt=\"Macrotyloma uniflorum\" src=\"//upload.wikimedia.org/wikipedia/commons/thumb/f/fb/Horse_Gram_BNC.jpg/350px-Horse_Gram_BNC.jpg\" decoding=\"async\" width=\"350\" height=\"233\" srcset=\"//upload.wikimedia.org/wikipedia/commons/thumb/f/fb/Horse_Gram_BNC.jpg/525px-Horse_Gram_BNC.jpg 1.5x, //upload.wikimedia.org/wikipedia/commons/thumb/f/fb/Horse_Gram_BNC.jpg/700px-Horse_Gram_BNC.jpg 2x\" data-file-width=\"2850\" data-file-height=\"1900\" /></a>\\n</td>\\n<td style=\"padding:0 6px 0 0\">\\n<p><i><b><a href=\"/wiki/Macrotyloma_uniflorum\" title=\"Macrotyloma uniflorum\">Macrotyloma uniflorum</a></b></i>, commonly known as horse gram, is a <a href=\"/wiki/Legume\" title=\"Legume\">legume</a> native to tropical southern Asia. The plant grows from a rhizome, sending up annual shoots to a height of 60&#160;cm (24&#160;in). The flowers are cream, yellow or pale green and are followed by short pods. The seeds, pictured here, have been consumed in India for at least 4,000 years and are used both for animal feed and human consumption, including <a href=\"/wiki/Ayurveda\" title=\"Ayurveda\">Ayurvedic</a> cuisine. In other tropical countries in southeastern Asia, and in northern Australia, the plant is grown mainly as a <a href=\"/wiki/Fodder\" title=\"Fodder\">fodder</a> crop and for use as <a href=\"/wiki/Green_manure\" title=\"Green manure\">green manure</a>. It is a drought-tolerant plant, largely cultivated in areas with low rainfall.\\n</p>\\n<p style=\"text-align:left;\"><small>Photograph credit: <a href=\"/wiki/User:Blacknclick\" title=\"User:Blacknclick\">Prathyush Thomas</a></small></p>\\n<div class=\"potd-recent\" style=\"text-align:right;\">\\nRecently featured: <div class=\"hlist hlist-separated inline\">\\n<ul><li><a href=\"/wiki/Template:POTD/2020-09-14\" title=\"Template:POTD/2020-09-14\"><i>Portrait of the Duke of Wellington</i></a></li>\\n<li><a href=\"/wiki/Template:POTD/2020-09-13\" title=\"Template:POTD/2020-09-13\">Nogi Maresuke</a></li>\\n<li><a href=\"/wiki/Template:POTD/2020-09-12\" title=\"Template:POTD/2020-09-12\">Spotted hyena</a></li></ul>\\n</div></div>\\n<div class=\"potd-footer hlist hlist-separated noprint\" style=\"text-align:right;\">\\n<ul><li><b><a href=\"/wiki/Wikipedia:Picture_of_the_day/Archive\" title=\"Wikipedia:Picture of the day/Archive\">Archive</a></b></li>\\n<li><b><a href=\"/wiki/Wikipedia:Featured_pictures\" title=\"Wikipedia:Featured pictures\">More featured pictures</a></b></li></ul>\\n</div>\\n</td></tr></tbody></table></div>\\n</div>\\n</div>\\n<div id=\"mp-other-lower\" class=\"mp-bordered\">\\n<h2 id=\"mp-other\" class=\"mp-h2\"><span class=\"mw-headline\" id=\"Other_areas_of_Wikipedia\">Other areas of Wikipedia</span></h2>\\n<div id=\"mp-other-content\">\\n<ul><li><b><a href=\"/wiki/Wikipedia:Community_portal\" title=\"Wikipedia:Community portal\">Community portal</a></b> \\xe2\\x80\\x93 Bulletin board, projects, resources and activities covering a wide range of Wikipedia areas.</li>\\n<li><b><a href=\"/wiki/Wikipedia:Help_desk\" title=\"Wikipedia:Help desk\">Help desk</a></b> \\xe2\\x80\\x93 Ask questions about using Wikipedia.</li>\\n<li><b><a href=\"/wiki/Wikipedia:Local_Embassy\" title=\"Wikipedia:Local Embassy\">Local embassy</a></b> \\xe2\\x80\\x93 For Wikipedia-related communication in languages other than English.</li>\\n<li><b><a href=\"/wiki/Wikipedia:Reference_desk\" title=\"Wikipedia:Reference desk\">Reference desk</a></b> \\xe2\\x80\\x93 Serving as virtual librarians, Wikipedia volunteers tackle your questions on a wide range of subjects.</li>\\n<li><b><a href=\"/wiki/Wikipedia:News\" title=\"Wikipedia:News\">Site news</a></b> \\xe2\\x80\\x93 Announcements, updates, articles and press releases on Wikipedia and the Wikimedia Foundation.</li>\\n<li><b><a href=\"/wiki/Wikipedia:Village_pump\" title=\"Wikipedia:Village pump\">Village pump</a></b> \\xe2\\x80\\x93 For discussions about Wikipedia itself, including areas for technical issues and policies.</li></ul>\\n</div>\\n<h2 id=\"mp-sister\" class=\"mp-h2\"><span id=\"Wikipedia.27s_sister_projects\"></span><span class=\"mw-headline\" id=\"Wikipedia\\'s_sister_projects\">Wikipedia\\'s sister projects</span></h2>\\n<div id=\"mp-sister-content\"><style data-mw-deduplicate=\"TemplateStyles:r961577119\">.mw-parser-output #sister-projects-list{text-align:left;background:transparent;margin:1px;display:flex;flex-wrap:wrap}.mw-parser-output #sister-projects-list>div{width:33%;min-width:20em;white-space:nowrap;display:inline-block;flex:1 0 25%}.mw-parser-output #sister-projects-list>div>div{display:inline-block;vertical-align:middle;padding:6px 4px}.mw-parser-output #sister-projects-list>div>div:first-child{min-width:50px;text-align:center}</style>\\n<p>Wikipedia is hosted by the <a href=\"/wiki/Wikimedia_Foundation\" title=\"Wikimedia Foundation\">Wikimedia Foundation</a>, a non-profit organization that also hosts a range of other <a href=\"https://wikimediafoundation.org/our-work/wikimedia-projects/\" class=\"extiw\" title=\"foundationsite:our-work/wikimedia-projects/\">projects</a>:\\n</p>\\n<div id=\"sister-projects-list\" class=\"layout plainlinks\">\\n<div>\\n  <div> <a href=\"https://commons.wikimedia.org/wiki/\" title=\"Commons\"><img alt=\"Commons\" src=\"//upload.wikimedia.org/wikipedia/en/thumb/4/4a/Commons-logo.svg/31px-Commons-logo.svg.png\" decoding=\"async\" width=\"31\" height=\"42\" srcset=\"//upload.wikimedia.org/wikipedia/en/thumb/4/4a/Commons-logo.svg/47px-Commons-logo.svg.png 1.5x, //upload.wikimedia.org/wikipedia/en/thumb/4/4a/Commons-logo.svg/62px-Commons-logo.svg.png 2x\" data-file-width=\"1024\" data-file-height=\"1376\" /></a> </div>\\n  <div> <b><a class=\"external text\" href=\"https://commons.wikimedia.org/\">Commons</a></b> <br /> Free media repository </div>\\n</div>\\n<div>\\n  <div> <a href=\"https://www.mediawiki.org/wiki/\" title=\"MediaWiki\"><img alt=\"MediaWiki\" src=\"//upload.wikimedia.org/wikipedia/commons/thumb/3/3d/Mediawiki-logo.png/35px-Mediawiki-logo.png\" decoding=\"async\" width=\"35\" height=\"26\" srcset=\"//upload.wikimedia.org/wikipedia/commons/thumb/3/3d/Mediawiki-logo.png/53px-Mediawiki-logo.png 1.5x, //upload.wikimedia.org/wikipedia/commons/thumb/3/3d/Mediawiki-logo.png/70px-Mediawiki-logo.png 2x\" data-file-width=\"135\" data-file-height=\"102\" /></a> </div>\\n  <div> <b><a class=\"external text\" href=\"https://mediawiki.org/\">MediaWiki</a></b> <br /> Wiki software development </div>\\n</div>\\n<div>\\n  <div> <a href=\"https://meta.wikimedia.org/wiki/\" title=\"Meta-Wiki\"><img alt=\"Meta-Wiki\" src=\"//upload.wikimedia.org/wikipedia/commons/thumb/7/75/Wikimedia_Community_Logo.svg/35px-Wikimedia_Community_Logo.svg.png\" decoding=\"async\" width=\"35\" height=\"35\" srcset=\"//upload.wikimedia.org/wikipedia/commons/thumb/7/75/Wikimedia_Community_Logo.svg/53px-Wikimedia_Community_Logo.svg.png 1.5x, //upload.wikimedia.org/wikipedia/commons/thumb/7/75/Wikimedia_Community_Logo.svg/70px-Wikimedia_Community_Logo.svg.png 2x\" data-file-width=\"900\" data-file-height=\"900\" /></a> </div>\\n  <div> <b><a class=\"external text\" href=\"https://meta.wikimedia.org/\">Meta-Wiki</a></b> <br /> Wikimedia project coordination </div>\\n</div>\\n<div>\\n  <div> <a href=\"https://en.wikibooks.org/wiki/\" title=\"Wikibooks\"><img alt=\"Wikibooks\" src=\"//upload.wikimedia.org/wikipedia/commons/thumb/f/fa/Wikibooks-logo.svg/35px-Wikibooks-logo.svg.png\" decoding=\"async\" width=\"35\" height=\"35\" srcset=\"//upload.wikimedia.org/wikipedia/commons/thumb/f/fa/Wikibooks-logo.svg/53px-Wikibooks-logo.svg.png 1.5x, //upload.wikimedia.org/wikipedia/commons/thumb/f/fa/Wikibooks-logo.svg/70px-Wikibooks-logo.svg.png 2x\" data-file-width=\"300\" data-file-height=\"300\" /></a> </div>\\n  <div> <b><a class=\"external text\" href=\"https://en.wikibooks.org/\">Wikibooks</a></b> <br /> Free textbooks and manuals </div>\\n</div>\\n<div>\\n  <div> <a href=\"https://www.wikidata.org/wiki/\" title=\"Wikidata\"><img alt=\"Wikidata\" src=\"//upload.wikimedia.org/wikipedia/commons/thumb/f/ff/Wikidata-logo.svg/47px-Wikidata-logo.svg.png\" decoding=\"async\" width=\"47\" height=\"26\" srcset=\"//upload.wikimedia.org/wikipedia/commons/thumb/f/ff/Wikidata-logo.svg/71px-Wikidata-logo.svg.png 1.5x, //upload.wikimedia.org/wikipedia/commons/thumb/f/ff/Wikidata-logo.svg/94px-Wikidata-logo.svg.png 2x\" data-file-width=\"1050\" data-file-height=\"590\" /></a> </div>\\n  <div> <b><a class=\"external text\" href=\"https://www.wikidata.org/\">Wikidata</a></b> <br /> Free knowledge base </div>\\n</div>\\n<div>\\n  <div> <a href=\"https://en.wikinews.org/wiki/\" title=\"Wikinews\"><img alt=\"Wikinews\" src=\"//upload.wikimedia.org/wikipedia/commons/thumb/2/24/Wikinews-logo.svg/51px-Wikinews-logo.svg.png\" decoding=\"async\" width=\"51\" height=\"28\" srcset=\"//upload.wikimedia.org/wikipedia/commons/thumb/2/24/Wikinews-logo.svg/77px-Wikinews-logo.svg.png 1.5x, //upload.wikimedia.org/wikipedia/commons/thumb/2/24/Wikinews-logo.svg/102px-Wikinews-logo.svg.png 2x\" data-file-width=\"759\" data-file-height=\"415\" /></a> </div>\\n  <div> <b><a class=\"external text\" href=\"https://en.wikinews.org/\">Wikinews</a></b> <br /> Free-content news </div>\\n</div>\\n<div>\\n  <div> <a href=\"https://en.wikiquote.org/wiki/\" title=\"Wikiquote\"><img alt=\"Wikiquote\" src=\"//upload.wikimedia.org/wikipedia/commons/thumb/f/fa/Wikiquote-logo.svg/35px-Wikiquote-logo.svg.png\" decoding=\"async\" width=\"35\" height=\"41\" srcset=\"//upload.wikimedia.org/wikipedia/commons/thumb/f/fa/Wikiquote-logo.svg/53px-Wikiquote-logo.svg.png 1.5x, //upload.wikimedia.org/wikipedia/commons/thumb/f/fa/Wikiquote-logo.svg/70px-Wikiquote-logo.svg.png 2x\" data-file-width=\"300\" data-file-height=\"355\" /></a> </div>\\n  <div> <b><a class=\"external text\" href=\"https://en.wikiquote.org/\">Wikiquote</a></b> <br /> Collection of quotations </div>\\n</div>\\n<div>\\n  <div> <a href=\"https://en.wikisource.org/wiki/\" title=\"Wikisource\"><img alt=\"Wikisource\" src=\"//upload.wikimedia.org/wikipedia/commons/thumb/4/4c/Wikisource-logo.svg/35px-Wikisource-logo.svg.png\" decoding=\"async\" width=\"35\" height=\"37\" srcset=\"//upload.wikimedia.org/wikipedia/commons/thumb/4/4c/Wikisource-logo.svg/53px-Wikisource-logo.svg.png 1.5x, //upload.wikimedia.org/wikipedia/commons/thumb/4/4c/Wikisource-logo.svg/70px-Wikisource-logo.svg.png 2x\" data-file-width=\"410\" data-file-height=\"430\" /></a> </div>\\n  <div> <b><a class=\"external text\" href=\"https://en.wikisource.org/\">Wikisource</a></b> <br /> Free-content library </div>\\n</div>\\n<div>\\n  <div> <a href=\"https://species.wikimedia.org/wiki/\" title=\"Wikispecies\"><img alt=\"Wikispecies\" src=\"//upload.wikimedia.org/wikipedia/commons/thumb/d/df/Wikispecies-logo.svg/35px-Wikispecies-logo.svg.png\" decoding=\"async\" width=\"35\" height=\"41\" srcset=\"//upload.wikimedia.org/wikipedia/commons/thumb/d/df/Wikispecies-logo.svg/53px-Wikispecies-logo.svg.png 1.5x, //upload.wikimedia.org/wikipedia/commons/thumb/d/df/Wikispecies-logo.svg/70px-Wikispecies-logo.svg.png 2x\" data-file-width=\"941\" data-file-height=\"1103\" /></a> </div>\\n  <div> <b><a class=\"external text\" href=\"https://species.wikimedia.org/\">Wikispecies</a></b> <br /> Directory of species </div>\\n</div>\\n<div>\\n  <div> <a href=\"https://en.wikiversity.org/wiki/\" title=\"Wikiversity\"><img alt=\"Wikiversity\" src=\"//upload.wikimedia.org/wikipedia/commons/thumb/0/0b/Wikiversity_logo_2017.svg/41px-Wikiversity_logo_2017.svg.png\" decoding=\"async\" width=\"41\" height=\"34\" srcset=\"//upload.wikimedia.org/wikipedia/commons/thumb/0/0b/Wikiversity_logo_2017.svg/62px-Wikiversity_logo_2017.svg.png 1.5x, //upload.wikimedia.org/wikipedia/commons/thumb/0/0b/Wikiversity_logo_2017.svg/82px-Wikiversity_logo_2017.svg.png 2x\" data-file-width=\"626\" data-file-height=\"512\" /></a> </div>\\n  <div> <b><a class=\"external text\" href=\"https://en.wikiversity.org/\">Wikiversity</a></b> <br /> Free learning resources </div>\\n</div>\\n<div>\\n  <div> <a href=\"https://en.wikivoyage.org/wiki/\" title=\"Wikivoyage\"><img alt=\"Wikivoyage\" src=\"//upload.wikimedia.org/wikipedia/commons/thumb/d/dd/Wikivoyage-Logo-v3-icon.svg/35px-Wikivoyage-Logo-v3-icon.svg.png\" decoding=\"async\" width=\"35\" height=\"35\" srcset=\"//upload.wikimedia.org/wikipedia/commons/thumb/d/dd/Wikivoyage-Logo-v3-icon.svg/53px-Wikivoyage-Logo-v3-icon.svg.png 1.5x, //upload.wikimedia.org/wikipedia/commons/thumb/d/dd/Wikivoyage-Logo-v3-icon.svg/70px-Wikivoyage-Logo-v3-icon.svg.png 2x\" data-file-width=\"193\" data-file-height=\"193\" /></a> </div>\\n  <div> <b><a class=\"external text\" href=\"https://en.wikivoyage.org/\">Wikivoyage</a></b> <br /> Free travel guide </div>\\n</div>\\n<div>\\n  <div> <a href=\"https://en.wiktionary.org/wiki/\" title=\"Wiktionary\"><img alt=\"Wiktionary\" src=\"//upload.wikimedia.org/wikipedia/en/thumb/0/06/Wiktionary-logo-v2.svg/35px-Wiktionary-logo-v2.svg.png\" decoding=\"async\" width=\"35\" height=\"35\" srcset=\"//upload.wikimedia.org/wikipedia/en/thumb/0/06/Wiktionary-logo-v2.svg/53px-Wiktionary-logo-v2.svg.png 1.5x, //upload.wikimedia.org/wikipedia/en/thumb/0/06/Wiktionary-logo-v2.svg/70px-Wiktionary-logo-v2.svg.png 2x\" data-file-width=\"391\" data-file-height=\"391\" /></a> </div>\\n  <div> <b><a class=\"external text\" href=\"https://en.wiktionary.org/\">Wiktionary</a></b> <br /> Dictionary and thesaurus </div>\\n</div>\\n</div></div>\\n<h2 id=\"mp-lang\" class=\"mp-h2\"><span class=\"mw-headline\" id=\"Wikipedia_languages\">Wikipedia languages</span></h2>\\n<div>\\n<div id=\"lang\" class=\"nowraplinks nourlexpansion plainlinks\">\\n<p>This Wikipedia is written in <a href=\"/wiki/English_language\" title=\"English language\">English</a>. Started in 2001<span style=\"display:none\">&#160;(<span class=\"bday dtstart published updated\">2001</span>)</span>, it currently contains <a href=\"/wiki/Special:Statistics\" title=\"Special:Statistics\">6,158,529</a> articles.&#32;\\nMany other Wikipedias are available; some of the largest are listed below.\\n</p>\\n<ul>\\n<li id=\"lang-3\">More than 1,000,000 articles: <div class=\"hlist hlist-separated inline\">\\n<ul><li><a class=\"external text\" href=\"https://ar.wikipedia.org/wiki/\"><span class=\"autonym\" title=\"Arabic (ar:)\" lang=\"ar\">\\xd8\\xa7\\xd9\\x84\\xd8\\xb9\\xd8\\xb1\\xd8\\xa8\\xd9\\x8a\\xd8\\xa9</span></a></li>\\n<li><a class=\"external text\" href=\"https://de.wikipedia.org/wiki/\"><span class=\"autonym\" title=\"German (de:)\" lang=\"de\">Deutsch</span></a></li>\\n<li><a class=\"external text\" href=\"https://es.wikipedia.org/wiki/\"><span class=\"autonym\" title=\"Spanish (es:)\" lang=\"es\">Espa\\xc3\\xb1ol</span></a></li>\\n<li><a class=\"external text\" href=\"https://fr.wikipedia.org/wiki/\"><span class=\"autonym\" title=\"French (fr:)\" lang=\"fr\">Fran\\xc3\\xa7ais</span></a></li>\\n<li><a class=\"external text\" href=\"https://it.wikipedia.org/wiki/\"><span class=\"autonym\" title=\"Italian (it:)\" lang=\"it\">Italiano</span></a></li>\\n<li><a class=\"external text\" href=\"https://nl.wikipedia.org/wiki/\"><span class=\"autonym\" title=\"Dutch (nl:)\" lang=\"nl\">Nederlands</span></a></li>\\n<li><a class=\"external text\" href=\"https://ja.wikipedia.org/wiki/\"><span class=\"autonym\" title=\"Japanese (ja:)\" lang=\"ja\">\\xe6\\x97\\xa5\\xe6\\x9c\\xac\\xe8\\xaa\\x9e</span></a></li>\\n<li><a class=\"external text\" href=\"https://pl.wikipedia.org/wiki/\"><span class=\"autonym\" title=\"Polish (pl:)\" lang=\"pl\">Polski</span></a></li>\\n<li><a class=\"external text\" href=\"https://pt.wikipedia.org/wiki/\"><span class=\"autonym\" title=\"Portuguese (pt:)\" lang=\"pt\">Portugu\\xc3\\xaas</span></a></li>\\n<li><a class=\"external text\" href=\"https://ru.wikipedia.org/wiki/\"><span class=\"autonym\" title=\"Russian (ru:)\" lang=\"ru\">\\xd0\\xa0\\xd1\\x83\\xd1\\x81\\xd1\\x81\\xd0\\xba\\xd0\\xb8\\xd0\\xb9</span></a></li>\\n<li><a class=\"external text\" href=\"https://sv.wikipedia.org/wiki/\"><span class=\"autonym\" title=\"Swedish (sv:)\" lang=\"sv\">Svenska</span></a></li>\\n<li><a class=\"external text\" href=\"https://uk.wikipedia.org/wiki/\"><span class=\"autonym\" title=\"Ukrainian (uk:)\" lang=\"uk\">\\xd0\\xa3\\xd0\\xba\\xd1\\x80\\xd0\\xb0\\xd1\\x97\\xd0\\xbd\\xd1\\x81\\xd1\\x8c\\xd0\\xba\\xd0\\xb0</span></a></li>\\n<li><a class=\"external text\" href=\"https://vi.wikipedia.org/wiki/\"><span class=\"autonym\" title=\"Vietnamese (vi:)\" lang=\"vi\">Ti\\xe1\\xba\\xbfng Vi\\xe1\\xbb\\x87t</span></a></li>\\n<li><a class=\"external text\" href=\"https://zh.wikipedia.org/wiki/\"><span class=\"autonym\" title=\"Chinese (zh:)\" lang=\"zh\">\\xe4\\xb8\\xad\\xe6\\x96\\x87</span></a></li></ul>\\n</div></li>\\n<li id=\"lang-2\">More than 250,000 articles: <div class=\"hlist hlist-separated inline\">\\n<ul><li><a class=\"external text\" href=\"https://id.wikipedia.org/wiki/\"><span class=\"autonym\" title=\"Indonesian (id:)\" lang=\"id\">Bahasa Indonesia</span></a></li>\\n<li><a class=\"external text\" href=\"https://ms.wikipedia.org/wiki/\"><span class=\"autonym\" title=\"Malay (ms:)\" lang=\"ms\">Bahasa Melayu</span></a></li>\\n<li><a class=\"external text\" href=\"https://zh-min-nan.wikipedia.org/wiki/\"><span class=\"autonym\" title=\"Min Nan Chinese (nan:)\" lang=\"nan\">B\\xc3\\xa2n-l\\xc3\\xa2m-g\\xc3\\xba</span></a></li>\\n<li><a class=\"external text\" href=\"https://bg.wikipedia.org/wiki/\"><span class=\"autonym\" title=\"Bulgarian (bg:)\" lang=\"bg\">\\xd0\\x91\\xd1\\x8a\\xd0\\xbb\\xd0\\xb3\\xd0\\xb0\\xd1\\x80\\xd1\\x81\\xd0\\xba\\xd0\\xb8</span></a></li>\\n<li><a class=\"external text\" href=\"https://ca.wikipedia.org/wiki/\"><span class=\"autonym\" title=\"Catalan (ca:)\" lang=\"ca\">Catal\\xc3\\xa0</span></a></li>\\n<li><a class=\"external text\" href=\"https://cs.wikipedia.org/wiki/\"><span class=\"autonym\" title=\"Czech (cs:)\" lang=\"cs\">\\xc4\\x8ce\\xc5\\xa1tina</span></a></li>\\n<li><a class=\"external text\" href=\"https://da.wikipedia.org/wiki/\"><span class=\"autonym\" title=\"Danish (da:)\" lang=\"da\">Dansk</span></a></li>\\n<li><a class=\"external text\" href=\"https://eo.wikipedia.org/wiki/\"><span class=\"autonym\" title=\"Esperanto (eo:)\" lang=\"eo\">Esperanto</span></a></li>\\n<li><a class=\"external text\" href=\"https://eu.wikipedia.org/wiki/\"><span class=\"autonym\" title=\"Basque (eu:)\" lang=\"eu\">Euskara</span></a></li>\\n<li><a class=\"external text\" href=\"https://fa.wikipedia.org/wiki/\"><span class=\"autonym\" title=\"Persian (fa:)\" lang=\"fa\">\\xd9\\x81\\xd8\\xa7\\xd8\\xb1\\xd8\\xb3\\xdb\\x8c</span></a>&#8206;</li>\\n<li><a class=\"external text\" href=\"https://he.wikipedia.org/wiki/\"><span class=\"autonym\" title=\"Hebrew (he:)\" lang=\"he\">\\xd7\\xa2\\xd7\\x91\\xd7\\xa8\\xd7\\x99\\xd7\\xaa</span></a></li>\\n<li><a class=\"external text\" href=\"https://ko.wikipedia.org/wiki/\"><span class=\"autonym\" title=\"Korean (ko:)\" lang=\"ko\">\\xed\\x95\\x9c\\xea\\xb5\\xad\\xec\\x96\\xb4</span></a></li>\\n<li><a class=\"external text\" href=\"https://hu.wikipedia.org/wiki/\"><span class=\"autonym\" title=\"Hungarian (hu:)\" lang=\"hu\">Magyar</span></a></li>\\n<li><a class=\"external text\" href=\"https://no.wikipedia.org/wiki/\"><span class=\"autonym\" title=\"Norwegian (no:)\" lang=\"no\">Norsk Bokm\\xc3\\xa5l</span></a></li>\\n<li><a class=\"external text\" href=\"https://ro.wikipedia.org/wiki/\"><span class=\"autonym\" title=\"Romanian (ro:)\" lang=\"ro\">Rom\\xc3\\xa2n\\xc4\\x83</span></a></li>\\n<li><a class=\"external text\" href=\"https://sr.wikipedia.org/wiki/\"><span class=\"autonym\" title=\"Serbian (sr:)\" lang=\"sr\">Srpski</span></a></li>\\n<li><a class=\"external text\" href=\"https://sh.wikipedia.org/wiki/\"><span class=\"autonym\" title=\"Serbo-Croatian (sh:)\" lang=\"sh\">Srpskohrvatski</span></a></li>\\n<li><a class=\"external text\" href=\"https://fi.wikipedia.org/wiki/\"><span class=\"autonym\" title=\"Finnish (fi:)\" lang=\"fi\">Suomi</span></a></li>\\n<li><a class=\"external text\" href=\"https://tr.wikipedia.org/wiki/\"><span class=\"autonym\" title=\"Turkish (tr:)\" lang=\"tr\">T\\xc3\\xbcrk\\xc3\\xa7e</span></a></li></ul>\\n</div></li>\\n<li id=\"lang-1\">More than 50,000 articles: <div class=\"hlist hlist-separated inline\">\\n<ul><li><a class=\"external text\" href=\"https://ast.wikipedia.org/wiki/\"><span class=\"autonym\" title=\"Asturian (ast:)\" lang=\"ast\">Asturianu</span></a></li>\\n<li><a class=\"external text\" href=\"https://bs.wikipedia.org/wiki/\"><span class=\"autonym\" title=\"Bosnian (bs:)\" lang=\"bs\">Bosanski</span></a></li>\\n<li><a class=\"external text\" href=\"https://et.wikipedia.org/wiki/\"><span class=\"autonym\" title=\"Estonian (et:)\" lang=\"et\">Eesti</span></a></li>\\n<li><a class=\"external text\" href=\"https://el.wikipedia.org/wiki/\"><span class=\"autonym\" title=\"Greek (el:)\" lang=\"el\">\\xce\\x95\\xce\\xbb\\xce\\xbb\\xce\\xb7\\xce\\xbd\\xce\\xb9\\xce\\xba\\xce\\xac</span></a></li>\\n<li><a class=\"external text\" href=\"https://simple.wikipedia.org/wiki/\"><span class=\"autonym\" title=\"Simple English (simple:)\" lang=\"simple\">English (Simple English)</span></a></li>\\n<li><a class=\"external text\" href=\"https://gl.wikipedia.org/wiki/\"><span class=\"autonym\" title=\"Galician (gl:)\" lang=\"gl\">Galego</span></a></li>\\n<li><a class=\"external text\" href=\"https://hr.wikipedia.org/wiki/\"><span class=\"autonym\" title=\"Croatian (hr:)\" lang=\"hr\">Hrvatski</span></a></li>\\n<li><a class=\"external text\" href=\"https://lv.wikipedia.org/wiki/\"><span class=\"autonym\" title=\"Latvian (lv:)\" lang=\"lv\">Latvie\\xc5\\xa1u</span></a></li>\\n<li><a class=\"external text\" href=\"https://lt.wikipedia.org/wiki/\"><span class=\"autonym\" title=\"Lithuanian (lt:)\" lang=\"lt\">Lietuvi\\xc5\\xb3</span></a></li>\\n<li><a class=\"external text\" href=\"https://ml.wikipedia.org/wiki/\"><span class=\"autonym\" title=\"Malayalam (ml:)\" lang=\"ml\">\\xe0\\xb4\\xae\\xe0\\xb4\\xb2\\xe0\\xb4\\xaf\\xe0\\xb4\\xbe\\xe0\\xb4\\xb3\\xe0\\xb4\\x82</span></a></li>\\n<li><a class=\"external text\" href=\"https://mk.wikipedia.org/wiki/\"><span class=\"autonym\" title=\"Macedonian (mk:)\" lang=\"mk\">\\xd0\\x9c\\xd0\\xb0\\xd0\\xba\\xd0\\xb5\\xd0\\xb4\\xd0\\xbe\\xd0\\xbd\\xd1\\x81\\xd0\\xba\\xd0\\xb8</span></a></li>\\n<li><a class=\"external text\" href=\"https://nn.wikipedia.org/wiki/\"><span class=\"autonym\" title=\"Norwegian Nynorsk (nn:)\" lang=\"nn\">Norsk nynorsk</span></a></li>\\n<li><a class=\"external text\" href=\"https://sk.wikipedia.org/wiki/\"><span class=\"autonym\" title=\"Slovak (sk:)\" lang=\"sk\">Sloven\\xc4\\x8dina</span></a></li>\\n<li><a class=\"external text\" href=\"https://sl.wikipedia.org/wiki/\"><span class=\"autonym\" title=\"Slovenian (sl:)\" lang=\"sl\">Sloven\\xc5\\xa1\\xc4\\x8dina</span></a></li>\\n<li><a class=\"external text\" href=\"https://th.wikipedia.org/wiki/\"><span class=\"autonym\" title=\"Thai (th:)\" lang=\"th\">\\xe0\\xb9\\x84\\xe0\\xb8\\x97\\xe0\\xb8\\xa2</span></a></li></ul>\\n</div></li>\\n</ul>\\n</div>\\n<div id=\"metalink\" style=\"text-align:center;\" class=\"plainlinks\"><strong><a href=\"https://meta.wikimedia.org/wiki/List_of_Wikipedias\" class=\"extiw\" title=\"meta:List of Wikipedias\">Complete list of Wikipedias</a></strong></div></div>\\n</div>\\n<!-- \\nNewPP limit report\\nParsed by mw2226\\nCached time: 20200915130657\\nCache expiry: 3600\\nDynamic content: true\\nComplications: []\\nCPU time usage: 0.476 seconds\\nReal time usage: 0.633 seconds\\nPreprocessor visited node count: 4130/1000000\\nPost\\xe2\\x80\\x90expand include size: 115193/2097152 bytes\\nTemplate argument size: 7644/2097152 bytes\\nHighest expansion depth: 21/40\\nExpensive parser function count: 14/500\\nUnstrip recursion depth: 0/20\\nUnstrip post\\xe2\\x80\\x90expand size: 5381/5000000 bytes\\nLua time usage: 0.107/10.000 seconds\\nLua memory usage: 4.32 MB/50 MB\\nNumber of Wikibase entities loaded: 0/400\\n-->\\n<!--\\nTransclusion expansion time report (%,ms,calls,template)\\n100.00%  444.669      1 -total\\n 31.01%  137.889      8 Template:Main_page_image\\n 27.40%  121.826      1 Wikipedia:Main_Page/Tomorrow\\n 19.06%   84.759      2 Template:In_the_news\\n 18.07%   80.340      1 Wikipedia:Selected_anniversaries/September_15\\n 18.04%   80.236      8 Template:Str_number/trim\\n 16.69%   74.194     24 Template:If_empty\\n 15.44%   68.677      1 Wikipedia:Today\\'s_featured_article/September_15,_2020\\n 14.62%   65.009      2 Template:Main_page_image/TFA\\n 13.82%   61.444      2 Template:Wikipedia_languages\\n-->\\n\\n<!-- Saved in parser cache with key enwiki:pcache:idhash:15580374-0!canonical and timestamp 20200915130657 and revision id 969106986\\n -->\\n</div><noscript><img src=\"//en.wikipedia.org/wiki/Special:CentralAutoLogin/start?type=1x1\" alt=\"\" title=\"\" width=\"1\" height=\"1\" style=\"border: none; position: absolute;\" /></noscript>\\n<div class=\"printfooter\">Retrieved from \"<a dir=\"ltr\" href=\"https://en.wikipedia.org/w/index.php?title=Main_Page&amp;oldid=969106986\">https://en.wikipedia.org/w/index.php?title=Main_Page&amp;oldid=969106986</a>\"</div></div>\\n\\t\\t<div id=\"catlinks\" class=\"catlinks catlinks-allhidden\" data-mw=\"interface\"></div>\\n\\t</div>\\n</div>\\n<div id=\\'mw-data-after-content\\'>\\n\\t<div class=\"read-more-container\"></div>\\n</div>\\n\\n<div id=\"mw-navigation\">\\n\\t<h2>Navigation menu</h2>\\n\\t<div id=\"mw-head\">\\n\\t\\t<!-- Please do not use role attribute as CSS selector, it is deprecated. -->\\n<nav id=\"p-personal\" class=\"vector-menu\" aria-labelledby=\"p-personal-label\" role=\"navigation\" \\n\\t >\\n\\t<h3 id=\"p-personal-label\">\\n\\t\\t<span>Personal tools</span>\\n\\t</h3>\\n\\t<!-- Please do not use the .body class, it is deprecated. -->\\n\\t<div class=\"body vector-menu-content\">\\n\\t\\t<!-- Please do not use the .menu class, it is deprecated. -->\\n\\t\\t<ul class=\"vector-menu-content-list\"><li id=\"pt-anonuserpage\">Not logged in</li><li id=\"pt-anontalk\"><a href=\"/wiki/Special:MyTalk\" title=\"Discussion about edits from this IP address [n]\" accesskey=\"n\">Talk</a></li><li id=\"pt-anoncontribs\"><a href=\"/wiki/Special:MyContributions\" title=\"A list of edits made from this IP address [y]\" accesskey=\"y\">Contributions</a></li><li id=\"pt-createaccount\"><a href=\"/w/index.php?title=Special:CreateAccount&amp;returnto=Main+Page\" title=\"You are encouraged to create an account and log in; however, it is not mandatory\">Create account</a></li><li id=\"pt-login\"><a href=\"/w/index.php?title=Special:UserLogin&amp;returnto=Main+Page\" title=\"You&#039;re encouraged to log in; however, it&#039;s not mandatory. [o]\" accesskey=\"o\">Log in</a></li></ul>\\n\\t\\t\\n\\t</div>\\n</nav>\\n\\n\\t\\t<div id=\"left-navigation\">\\n\\t\\t\\t<!-- Please do not use role attribute as CSS selector, it is deprecated. -->\\n<nav id=\"p-namespaces\" class=\"vector-menu vector-menu-tabs vectorTabs\" aria-labelledby=\"p-namespaces-label\" role=\"navigation\" \\n\\t >\\n\\t<h3 id=\"p-namespaces-label\">\\n\\t\\t<span>Namespaces</span>\\n\\t</h3>\\n\\t<!-- Please do not use the .body class, it is deprecated. -->\\n\\t<div class=\"body vector-menu-content\">\\n\\t\\t<!-- Please do not use the .menu class, it is deprecated. -->\\n\\t\\t<ul class=\"vector-menu-content-list\"><li id=\"ca-nstab-main\" class=\"selected\"><a href=\"/wiki/Main_Page\" title=\"View the content page [c]\" accesskey=\"c\">Main Page</a></li><li id=\"ca-talk\"><a href=\"/wiki/Talk:Main_Page\" rel=\"discussion\" title=\"Discuss improvements to the content page [t]\" accesskey=\"t\">Talk</a></li></ul>\\n\\t\\t\\n\\t</div>\\n</nav>\\n\\n\\t\\t\\t<!-- Please do not use role attribute as CSS selector, it is deprecated. -->\\n<nav id=\"p-variants\" class=\"vector-menu-empty emptyPortlet vector-menu vector-menu-dropdown vectorMenu\" aria-labelledby=\"p-variants-label\" role=\"navigation\" \\n\\t >\\n\\t<input type=\"checkbox\" class=\"vector-menu-checkbox vectorMenuCheckbox\" aria-labelledby=\"p-variants-label\" />\\n\\t<h3 id=\"p-variants-label\">\\n\\t\\t<span>Variants</span>\\n\\t</h3>\\n\\t<!-- Please do not use the .body class, it is deprecated. -->\\n\\t<div class=\"body vector-menu-content\">\\n\\t\\t<!-- Please do not use the .menu class, it is deprecated. -->\\n\\t\\t<ul class=\"menu vector-menu-content-list\"></ul>\\n\\t\\t\\n\\t</div>\\n</nav>\\n\\n\\t\\t</div>\\n\\t\\t<div id=\"right-navigation\">\\n\\t\\t\\t<!-- Please do not use role attribute as CSS selector, it is deprecated. -->\\n<nav id=\"p-views\" class=\"vector-menu vector-menu-tabs vectorTabs\" aria-labelledby=\"p-views-label\" role=\"navigation\" \\n\\t >\\n\\t<h3 id=\"p-views-label\">\\n\\t\\t<span>Views</span>\\n\\t</h3>\\n\\t<!-- Please do not use the .body class, it is deprecated. -->\\n\\t<div class=\"body vector-menu-content\">\\n\\t\\t<!-- Please do not use the .menu class, it is deprecated. -->\\n\\t\\t<ul class=\"vector-menu-content-list\"><li id=\"ca-view\" class=\"selected\"><a href=\"/wiki/Main_Page\">Read</a></li><li id=\"ca-viewsource\"><a href=\"/w/index.php?title=Main_Page&amp;action=edit\" title=\"This page is protected.&#10;You can view its source [e]\" accesskey=\"e\">View source</a></li><li id=\"ca-history\"><a href=\"/w/index.php?title=Main_Page&amp;action=history\" title=\"Past revisions of this page [h]\" accesskey=\"h\">View history</a></li></ul>\\n\\t\\t\\n\\t</div>\\n</nav>\\n\\n\\t\\t\\t<!-- Please do not use role attribute as CSS selector, it is deprecated. -->\\n<nav id=\"p-cactions\" class=\"vector-menu-empty emptyPortlet vector-menu vector-menu-dropdown vectorMenu\" aria-labelledby=\"p-cactions-label\" role=\"navigation\" \\n\\t >\\n\\t<input type=\"checkbox\" class=\"vector-menu-checkbox vectorMenuCheckbox\" aria-labelledby=\"p-cactions-label\" />\\n\\t<h3 id=\"p-cactions-label\">\\n\\t\\t<span>More</span>\\n\\t</h3>\\n\\t<!-- Please do not use the .body class, it is deprecated. -->\\n\\t<div class=\"body vector-menu-content\">\\n\\t\\t<!-- Please do not use the .menu class, it is deprecated. -->\\n\\t\\t<ul class=\"menu vector-menu-content-list\"></ul>\\n\\t\\t\\n\\t</div>\\n</nav>\\n\\n\\t\\t\\t<div id=\"p-search\" role=\"search\">\\n\\t<h3 >\\n\\t\\t<label for=\"searchInput\">Search</label>\\n\\t</h3>\\n\\t<form action=\"/w/index.php\" id=\"searchform\">\\n\\t\\t<div id=\"simpleSearch\">\\n\\t\\t\\t<input type=\"search\" name=\"search\" placeholder=\"Search Wikipedia\" title=\"Search Wikipedia [f]\" accesskey=\"f\" id=\"searchInput\"/>\\n\\t\\t\\t<input type=\"hidden\" name=\"title\" value=\"Special:Search\">\\n\\t\\t\\t<input type=\"submit\" name=\"fulltext\" value=\"Search\" title=\"Search Wikipedia for this text\" id=\"mw-searchButton\" class=\"searchButton mw-fallbackSearchButton\"/>\\n\\t\\t\\t<input type=\"submit\" name=\"go\" value=\"Go\" title=\"Go to a page with this exact name if it exists\" id=\"searchButton\" class=\"searchButton\"/>\\n\\t\\t</div>\\n\\t</form>\\n</div>\\n\\n\\t\\t</div>\\n\\t</div>\\n\\t\\n<div id=\"mw-panel\">\\n\\t<div id=\"p-logo\" role=\"banner\">\\n\\t\\t<a  title=\"Visit the main page\" class=\"mw-wiki-logo\" href=\"/wiki/Main_Page\"></a>\\n\\t</div>\\n\\t<!-- Please do not use role attribute as CSS selector, it is deprecated. -->\\n<nav id=\"p-navigation\" class=\"vector-menu vector-menu-portal portal portal-first\" aria-labelledby=\"p-navigation-label\" role=\"navigation\" \\n\\t >\\n\\t<h3 id=\"p-navigation-label\">\\n\\t\\t<span>Navigation</span>\\n\\t</h3>\\n\\t<!-- Please do not use the .body class, it is deprecated. -->\\n\\t<div class=\"body vector-menu-content\">\\n\\t\\t<!-- Please do not use the .menu class, it is deprecated. -->\\n\\t\\t<ul class=\"vector-menu-content-list\"><li id=\"n-mainpage-description\"><a href=\"/wiki/Main_Page\" title=\"Visit the main page [z]\" accesskey=\"z\">Main page</a></li><li id=\"n-contents\"><a href=\"/wiki/Wikipedia:Contents\" title=\"Guides to browsing Wikipedia\">Contents</a></li><li id=\"n-currentevents\"><a href=\"/wiki/Portal:Current_events\" title=\"Find background information on current events\">Current events</a></li><li id=\"n-randompage\"><a href=\"/wiki/Special:Random\" title=\"Visit a randomly selected article [x]\" accesskey=\"x\">Random article</a></li><li id=\"n-aboutsite\"><a href=\"/wiki/Wikipedia:About\" title=\"Learn about Wikipedia and how it works\">About Wikipedia</a></li><li id=\"n-contactpage\"><a href=\"//en.wikipedia.org/wiki/Wikipedia:Contact_us\" title=\"How to contact Wikipedia\">Contact us</a></li><li id=\"n-sitesupport\"><a href=\"https://donate.wikimedia.org/wiki/Special:FundraiserRedirector?utm_source=donate&amp;utm_medium=sidebar&amp;utm_campaign=C13_en.wikipedia.org&amp;uselang=en\" title=\"Support us by donating to the Wikimedia Foundation\">Donate</a></li><li id=\"n-shoplink\"><a href=\"//shop.wikimedia.org\" title=\"Visit the Wikipedia store\">Wikipedia store</a></li></ul>\\n\\t\\t\\n\\t</div>\\n</nav>\\n\\n\\t<!-- Please do not use role attribute as CSS selector, it is deprecated. -->\\n<nav id=\"p-interaction\" class=\"vector-menu vector-menu-portal portal\" aria-labelledby=\"p-interaction-label\" role=\"navigation\" \\n\\t >\\n\\t<h3 id=\"p-interaction-label\">\\n\\t\\t<span>Contribute</span>\\n\\t</h3>\\n\\t<!-- Please do not use the .body class, it is deprecated. -->\\n\\t<div class=\"body vector-menu-content\">\\n\\t\\t<!-- Please do not use the .menu class, it is deprecated. -->\\n\\t\\t<ul class=\"vector-menu-content-list\"><li id=\"n-help\"><a href=\"/wiki/Help:Contents\" title=\"Guidance on how to use and edit Wikipedia\">Help</a></li><li id=\"n-portal\"><a href=\"/wiki/Wikipedia:Community_portal\" title=\"About the project, what you can do, where to find things\">Community portal</a></li><li id=\"n-recentchanges\"><a href=\"/wiki/Special:RecentChanges\" title=\"A list of recent changes to Wikipedia [r]\" accesskey=\"r\">Recent changes</a></li><li id=\"n-upload\"><a href=\"/wiki/Wikipedia:File_Upload_Wizard\" title=\"Add images or other media for use on Wikipedia\">Upload file</a></li></ul>\\n\\t\\t\\n\\t</div>\\n</nav>\\n<!-- Please do not use role attribute as CSS selector, it is deprecated. -->\\n<nav id=\"p-tb\" class=\"vector-menu vector-menu-portal portal\" aria-labelledby=\"p-tb-label\" role=\"navigation\" \\n\\t >\\n\\t<h3 id=\"p-tb-label\">\\n\\t\\t<span>Tools</span>\\n\\t</h3>\\n\\t<!-- Please do not use the .body class, it is deprecated. -->\\n\\t<div class=\"body vector-menu-content\">\\n\\t\\t<!-- Please do not use the .menu class, it is deprecated. -->\\n\\t\\t<ul class=\"vector-menu-content-list\"><li id=\"t-whatlinkshere\"><a href=\"/wiki/Special:WhatLinksHere/Main_Page\" title=\"List of all English Wikipedia pages containing links to this page [j]\" accesskey=\"j\">What links here</a></li><li id=\"t-recentchangeslinked\"><a href=\"/wiki/Special:RecentChangesLinked/Main_Page\" rel=\"nofollow\" title=\"Recent changes in pages linked from this page [k]\" accesskey=\"k\">Related changes</a></li><li id=\"t-upload\"><a href=\"/wiki/Wikipedia:File_Upload_Wizard\" title=\"Upload files [u]\" accesskey=\"u\">Upload file</a></li><li id=\"t-specialpages\"><a href=\"/wiki/Special:SpecialPages\" title=\"A list of all special pages [q]\" accesskey=\"q\">Special pages</a></li><li id=\"t-permalink\"><a href=\"/w/index.php?title=Main_Page&amp;oldid=969106986\" title=\"Permanent link to this revision of this page\">Permanent link</a></li><li id=\"t-info\"><a href=\"/w/index.php?title=Main_Page&amp;action=info\" title=\"More information about this page\">Page information</a></li><li id=\"t-cite\"><a href=\"/w/index.php?title=Special:CiteThisPage&amp;page=Main_Page&amp;id=969106986&amp;wpFormIdentifier=titleform\" title=\"Information on how to cite this page\">Cite this page</a></li><li id=\"t-wikibase\"><a href=\"https://www.wikidata.org/wiki/Special:EntityPage/Q5296\" title=\"Structured data on this page hosted by Wikidata [g]\" accesskey=\"g\">Wikidata item</a></li></ul>\\n\\t\\t\\n\\t</div>\\n</nav>\\n<!-- Please do not use role attribute as CSS selector, it is deprecated. -->\\n<nav id=\"p-coll-print_export\" class=\"vector-menu vector-menu-portal portal\" aria-labelledby=\"p-coll-print_export-label\" role=\"navigation\" \\n\\t >\\n\\t<h3 id=\"p-coll-print_export-label\">\\n\\t\\t<span>Print/export</span>\\n\\t</h3>\\n\\t<!-- Please do not use the .body class, it is deprecated. -->\\n\\t<div class=\"body vector-menu-content\">\\n\\t\\t<!-- Please do not use the .menu class, it is deprecated. -->\\n\\t\\t<ul class=\"vector-menu-content-list\"><li id=\"coll-download-as-rl\"><a href=\"/w/index.php?title=Special:DownloadAsPdf&amp;page=Main_Page&amp;action=show-download-screen\" title=\"Download this page as a PDF file\">Download as PDF</a></li><li id=\"t-print\"><a href=\"/w/index.php?title=Main_Page&amp;printable=yes\" title=\"Printable version of this page [p]\" accesskey=\"p\">Printable version</a></li></ul>\\n\\t\\t\\n\\t</div>\\n</nav>\\n<!-- Please do not use role attribute as CSS selector, it is deprecated. -->\\n<nav id=\"p-wikibase-otherprojects\" class=\"vector-menu vector-menu-portal portal\" aria-labelledby=\"p-wikibase-otherprojects-label\" role=\"navigation\" \\n\\t >\\n\\t<h3 id=\"p-wikibase-otherprojects-label\">\\n\\t\\t<span>In other projects</span>\\n\\t</h3>\\n\\t<!-- Please do not use the .body class, it is deprecated. -->\\n\\t<div class=\"body vector-menu-content\">\\n\\t\\t<!-- Please do not use the .menu class, it is deprecated. -->\\n\\t\\t<ul class=\"vector-menu-content-list\"><li class=\"wb-otherproject-link wb-otherproject-commons\"><a href=\"https://commons.wikimedia.org/wiki/Main_Page\" hreflang=\"en\">Wikimedia Commons</a></li><li class=\"wb-otherproject-link wb-otherproject-mediawiki\"><a href=\"https://www.mediawiki.org/wiki/MediaWiki\" hreflang=\"en\">MediaWiki</a></li><li class=\"wb-otherproject-link wb-otherproject-meta\"><a href=\"https://meta.wikimedia.org/wiki/Main_Page\" hreflang=\"en\">Meta-Wiki</a></li><li class=\"wb-otherproject-link wb-otherproject-species\"><a href=\"https://species.wikimedia.org/wiki/Main_Page\" hreflang=\"en\">Wikispecies</a></li><li class=\"wb-otherproject-link wb-otherproject-wikibooks\"><a href=\"https://en.wikibooks.org/wiki/Main_Page\" hreflang=\"en\">Wikibooks</a></li><li class=\"wb-otherproject-link wb-otherproject-wikidata\"><a href=\"https://www.wikidata.org/wiki/Wikidata:Main_Page\" hreflang=\"en\">Wikidata</a></li><li class=\"wb-otherproject-link wb-otherproject-wikimania\"><a href=\"https://wikimania.wikimedia.org/wiki/Wikimania\" hreflang=\"en\">Wikimania</a></li><li class=\"wb-otherproject-link wb-otherproject-wikinews\"><a href=\"https://en.wikinews.org/wiki/Main_Page\" hreflang=\"en\">Wikinews</a></li><li class=\"wb-otherproject-link wb-otherproject-wikiquote\"><a href=\"https://en.wikiquote.org/wiki/Main_Page\" hreflang=\"en\">Wikiquote</a></li><li class=\"wb-otherproject-link wb-otherproject-wikisource\"><a href=\"https://en.wikisource.org/wiki/Main_Page\" hreflang=\"en\">Wikisource</a></li><li class=\"wb-otherproject-link wb-otherproject-wikiversity\"><a href=\"https://en.wikiversity.org/wiki/Wikiversity:Main_Page\" hreflang=\"en\">Wikiversity</a></li><li class=\"wb-otherproject-link wb-otherproject-wikivoyage\"><a href=\"https://en.wikivoyage.org/wiki/Main_Page\" hreflang=\"en\">Wikivoyage</a></li><li class=\"wb-otherproject-link wb-otherproject-wiktionary\"><a href=\"https://en.wiktionary.org/wiki/Wiktionary:Main_Page\" hreflang=\"en\">Wiktionary</a></li></ul>\\n\\t\\t\\n\\t</div>\\n</nav>\\n\\n\\t<!-- Please do not use role attribute as CSS selector, it is deprecated. -->\\n<nav id=\"p-lang\" class=\"vector-menu vector-menu-portal portal\" aria-labelledby=\"p-lang-label\" role=\"navigation\" \\n\\t >\\n\\t<h3 id=\"p-lang-label\">\\n\\t\\t<span>Languages</span>\\n\\t</h3>\\n\\t<!-- Please do not use the .body class, it is deprecated. -->\\n\\t<div class=\"body vector-menu-content\">\\n\\t\\t<!-- Please do not use the .menu class, it is deprecated. -->\\n\\t\\t<ul class=\"vector-menu-content-list\"><li class=\"interlanguage-link interwiki-ar\"><a href=\"https://ar.wikipedia.org/wiki/\" title=\"Arabic\" lang=\"ar\" hreflang=\"ar\" class=\"interlanguage-link-target\">\\xd8\\xa7\\xd9\\x84\\xd8\\xb9\\xd8\\xb1\\xd8\\xa8\\xd9\\x8a\\xd8\\xa9</a></li><li class=\"interlanguage-link interwiki-bg\"><a href=\"https://bg.wikipedia.org/wiki/\" title=\"Bulgarian\" lang=\"bg\" hreflang=\"bg\" class=\"interlanguage-link-target\">\\xd0\\x91\\xd1\\x8a\\xd0\\xbb\\xd0\\xb3\\xd0\\xb0\\xd1\\x80\\xd1\\x81\\xd0\\xba\\xd0\\xb8</a></li><li class=\"interlanguage-link interwiki-bs\"><a href=\"https://bs.wikipedia.org/wiki/\" title=\"Bosnian\" lang=\"bs\" hreflang=\"bs\" class=\"interlanguage-link-target\">Bosanski</a></li><li class=\"interlanguage-link interwiki-ca\"><a href=\"https://ca.wikipedia.org/wiki/\" title=\"Catalan\" lang=\"ca\" hreflang=\"ca\" class=\"interlanguage-link-target\">Catal\\xc3\\xa0</a></li><li class=\"interlanguage-link interwiki-cs\"><a href=\"https://cs.wikipedia.org/wiki/\" title=\"Czech\" lang=\"cs\" hreflang=\"cs\" class=\"interlanguage-link-target\">\\xc4\\x8ce\\xc5\\xa1tina</a></li><li class=\"interlanguage-link interwiki-da\"><a href=\"https://da.wikipedia.org/wiki/\" title=\"Danish\" lang=\"da\" hreflang=\"da\" class=\"interlanguage-link-target\">Dansk</a></li><li class=\"interlanguage-link interwiki-de\"><a href=\"https://de.wikipedia.org/wiki/\" title=\"German\" lang=\"de\" hreflang=\"de\" class=\"interlanguage-link-target\">Deutsch</a></li><li class=\"interlanguage-link interwiki-et\"><a href=\"https://et.wikipedia.org/wiki/\" title=\"Estonian\" lang=\"et\" hreflang=\"et\" class=\"interlanguage-link-target\">Eesti</a></li><li class=\"interlanguage-link interwiki-el\"><a href=\"https://el.wikipedia.org/wiki/\" title=\"Greek\" lang=\"el\" hreflang=\"el\" class=\"interlanguage-link-target\">\\xce\\x95\\xce\\xbb\\xce\\xbb\\xce\\xb7\\xce\\xbd\\xce\\xb9\\xce\\xba\\xce\\xac</a></li><li class=\"interlanguage-link interwiki-es\"><a href=\"https://es.wikipedia.org/wiki/\" title=\"Spanish\" lang=\"es\" hreflang=\"es\" class=\"interlanguage-link-target\">Espa\\xc3\\xb1ol</a></li><li class=\"interlanguage-link interwiki-eo\"><a href=\"https://eo.wikipedia.org/wiki/\" title=\"Esperanto\" lang=\"eo\" hreflang=\"eo\" class=\"interlanguage-link-target\">Esperanto</a></li><li class=\"interlanguage-link interwiki-eu\"><a href=\"https://eu.wikipedia.org/wiki/\" title=\"Basque\" lang=\"eu\" hreflang=\"eu\" class=\"interlanguage-link-target\">Euskara</a></li><li class=\"interlanguage-link interwiki-fa\"><a href=\"https://fa.wikipedia.org/wiki/\" title=\"Persian\" lang=\"fa\" hreflang=\"fa\" class=\"interlanguage-link-target\">\\xd9\\x81\\xd8\\xa7\\xd8\\xb1\\xd8\\xb3\\xdb\\x8c</a></li><li class=\"interlanguage-link interwiki-fr\"><a href=\"https://fr.wikipedia.org/wiki/\" title=\"French\" lang=\"fr\" hreflang=\"fr\" class=\"interlanguage-link-target\">Fran\\xc3\\xa7ais</a></li><li class=\"interlanguage-link interwiki-gl\"><a href=\"https://gl.wikipedia.org/wiki/\" title=\"Galician\" lang=\"gl\" hreflang=\"gl\" class=\"interlanguage-link-target\">Galego</a></li><li class=\"interlanguage-link interwiki-ko\"><a href=\"https://ko.wikipedia.org/wiki/\" title=\"Korean\" lang=\"ko\" hreflang=\"ko\" class=\"interlanguage-link-target\">\\xed\\x95\\x9c\\xea\\xb5\\xad\\xec\\x96\\xb4</a></li><li class=\"interlanguage-link interwiki-hr\"><a href=\"https://hr.wikipedia.org/wiki/\" title=\"Croatian\" lang=\"hr\" hreflang=\"hr\" class=\"interlanguage-link-target\">Hrvatski</a></li><li class=\"interlanguage-link interwiki-id\"><a href=\"https://id.wikipedia.org/wiki/\" title=\"Indonesian\" lang=\"id\" hreflang=\"id\" class=\"interlanguage-link-target\">Bahasa Indonesia</a></li><li class=\"interlanguage-link interwiki-it\"><a href=\"https://it.wikipedia.org/wiki/\" title=\"Italian\" lang=\"it\" hreflang=\"it\" class=\"interlanguage-link-target\">Italiano</a></li><li class=\"interlanguage-link interwiki-he\"><a href=\"https://he.wikipedia.org/wiki/\" title=\"Hebrew\" lang=\"he\" hreflang=\"he\" class=\"interlanguage-link-target\">\\xd7\\xa2\\xd7\\x91\\xd7\\xa8\\xd7\\x99\\xd7\\xaa</a></li><li class=\"interlanguage-link interwiki-ka\"><a href=\"https://ka.wikipedia.org/wiki/\" title=\"Georgian\" lang=\"ka\" hreflang=\"ka\" class=\"interlanguage-link-target\">\\xe1\\x83\\xa5\\xe1\\x83\\x90\\xe1\\x83\\xa0\\xe1\\x83\\x97\\xe1\\x83\\xa3\\xe1\\x83\\x9a\\xe1\\x83\\x98</a></li><li class=\"interlanguage-link interwiki-lv\"><a href=\"https://lv.wikipedia.org/wiki/\" title=\"Latvian\" lang=\"lv\" hreflang=\"lv\" class=\"interlanguage-link-target\">Latvie\\xc5\\xa1u</a></li><li class=\"interlanguage-link interwiki-lt\"><a href=\"https://lt.wikipedia.org/wiki/\" title=\"Lithuanian\" lang=\"lt\" hreflang=\"lt\" class=\"interlanguage-link-target\">Lietuvi\\xc5\\xb3</a></li><li class=\"interlanguage-link interwiki-hu\"><a href=\"https://hu.wikipedia.org/wiki/\" title=\"Hungarian\" lang=\"hu\" hreflang=\"hu\" class=\"interlanguage-link-target\">Magyar</a></li><li class=\"interlanguage-link interwiki-mk\"><a href=\"https://mk.wikipedia.org/wiki/\" title=\"Macedonian\" lang=\"mk\" hreflang=\"mk\" class=\"interlanguage-link-target\">\\xd0\\x9c\\xd0\\xb0\\xd0\\xba\\xd0\\xb5\\xd0\\xb4\\xd0\\xbe\\xd0\\xbd\\xd1\\x81\\xd0\\xba\\xd0\\xb8</a></li><li class=\"interlanguage-link interwiki-ms\"><a href=\"https://ms.wikipedia.org/wiki/\" title=\"Malay\" lang=\"ms\" hreflang=\"ms\" class=\"interlanguage-link-target\">Bahasa Melayu</a></li><li class=\"interlanguage-link interwiki-nl\"><a href=\"https://nl.wikipedia.org/wiki/\" title=\"Dutch\" lang=\"nl\" hreflang=\"nl\" class=\"interlanguage-link-target\">Nederlands</a></li><li class=\"interlanguage-link interwiki-ja\"><a href=\"https://ja.wikipedia.org/wiki/\" title=\"Japanese\" lang=\"ja\" hreflang=\"ja\" class=\"interlanguage-link-target\">\\xe6\\x97\\xa5\\xe6\\x9c\\xac\\xe8\\xaa\\x9e</a></li><li class=\"interlanguage-link interwiki-no\"><a href=\"https://no.wikipedia.org/wiki/\" title=\"Norwegian Bokm\\xc3\\xa5l\" lang=\"nb\" hreflang=\"nb\" class=\"interlanguage-link-target\">Norsk bokm\\xc3\\xa5l</a></li><li class=\"interlanguage-link interwiki-nn\"><a href=\"https://nn.wikipedia.org/wiki/\" title=\"Norwegian Nynorsk\" lang=\"nn\" hreflang=\"nn\" class=\"interlanguage-link-target\">Norsk nynorsk</a></li><li class=\"interlanguage-link interwiki-pl\"><a href=\"https://pl.wikipedia.org/wiki/\" title=\"Polish\" lang=\"pl\" hreflang=\"pl\" class=\"interlanguage-link-target\">Polski</a></li><li class=\"interlanguage-link interwiki-pt\"><a href=\"https://pt.wikipedia.org/wiki/\" title=\"Portuguese\" lang=\"pt\" hreflang=\"pt\" class=\"interlanguage-link-target\">Portugu\\xc3\\xaas</a></li><li class=\"interlanguage-link interwiki-ro\"><a href=\"https://ro.wikipedia.org/wiki/\" title=\"Romanian\" lang=\"ro\" hreflang=\"ro\" class=\"interlanguage-link-target\">Rom\\xc3\\xa2n\\xc4\\x83</a></li><li class=\"interlanguage-link interwiki-ru\"><a href=\"https://ru.wikipedia.org/wiki/\" title=\"Russian\" lang=\"ru\" hreflang=\"ru\" class=\"interlanguage-link-target\">\\xd0\\xa0\\xd1\\x83\\xd1\\x81\\xd1\\x81\\xd0\\xba\\xd0\\xb8\\xd0\\xb9</a></li><li class=\"interlanguage-link interwiki-simple\"><a href=\"https://simple.wikipedia.org/wiki/\" title=\"Simple English\" lang=\"en-simple\" hreflang=\"en-simple\" class=\"interlanguage-link-target\">Simple English</a></li><li class=\"interlanguage-link interwiki-sk\"><a href=\"https://sk.wikipedia.org/wiki/\" title=\"Slovak\" lang=\"sk\" hreflang=\"sk\" class=\"interlanguage-link-target\">Sloven\\xc4\\x8dina</a></li><li class=\"interlanguage-link interwiki-sl\"><a href=\"https://sl.wikipedia.org/wiki/\" title=\"Slovenian\" lang=\"sl\" hreflang=\"sl\" class=\"interlanguage-link-target\">Sloven\\xc5\\xa1\\xc4\\x8dina</a></li><li class=\"interlanguage-link interwiki-sr\"><a href=\"https://sr.wikipedia.org/wiki/\" title=\"Serbian\" lang=\"sr\" hreflang=\"sr\" class=\"interlanguage-link-target\">\\xd0\\xa1\\xd1\\x80\\xd0\\xbf\\xd1\\x81\\xd0\\xba\\xd0\\xb8 / srpski</a></li><li class=\"interlanguage-link interwiki-sh\"><a href=\"https://sh.wikipedia.org/wiki/\" title=\"Serbo-Croatian\" lang=\"sh\" hreflang=\"sh\" class=\"interlanguage-link-target\">Srpskohrvatski / \\xd1\\x81\\xd1\\x80\\xd0\\xbf\\xd1\\x81\\xd0\\xba\\xd0\\xbe\\xd1\\x85\\xd1\\x80\\xd0\\xb2\\xd0\\xb0\\xd1\\x82\\xd1\\x81\\xd0\\xba\\xd0\\xb8</a></li><li class=\"interlanguage-link interwiki-fi\"><a href=\"https://fi.wikipedia.org/wiki/\" title=\"Finnish\" lang=\"fi\" hreflang=\"fi\" class=\"interlanguage-link-target\">Suomi</a></li><li class=\"interlanguage-link interwiki-sv\"><a href=\"https://sv.wikipedia.org/wiki/\" title=\"Swedish\" lang=\"sv\" hreflang=\"sv\" class=\"interlanguage-link-target\">Svenska</a></li><li class=\"interlanguage-link interwiki-th\"><a href=\"https://th.wikipedia.org/wiki/\" title=\"Thai\" lang=\"th\" hreflang=\"th\" class=\"interlanguage-link-target\">\\xe0\\xb9\\x84\\xe0\\xb8\\x97\\xe0\\xb8\\xa2</a></li><li class=\"interlanguage-link interwiki-tr\"><a href=\"https://tr.wikipedia.org/wiki/\" title=\"Turkish\" lang=\"tr\" hreflang=\"tr\" class=\"interlanguage-link-target\">T\\xc3\\xbcrk\\xc3\\xa7e</a></li><li class=\"interlanguage-link interwiki-uk\"><a href=\"https://uk.wikipedia.org/wiki/\" title=\"Ukrainian\" lang=\"uk\" hreflang=\"uk\" class=\"interlanguage-link-target\">\\xd0\\xa3\\xd0\\xba\\xd1\\x80\\xd0\\xb0\\xd1\\x97\\xd0\\xbd\\xd1\\x81\\xd1\\x8c\\xd0\\xba\\xd0\\xb0</a></li><li class=\"interlanguage-link interwiki-vi\"><a href=\"https://vi.wikipedia.org/wiki/\" title=\"Vietnamese\" lang=\"vi\" hreflang=\"vi\" class=\"interlanguage-link-target\">Ti\\xe1\\xba\\xbfng Vi\\xe1\\xbb\\x87t</a></li><li class=\"interlanguage-link interwiki-zh\"><a href=\"https://zh.wikipedia.org/wiki/\" title=\"Chinese\" lang=\"zh\" hreflang=\"zh\" class=\"interlanguage-link-target\">\\xe4\\xb8\\xad\\xe6\\x96\\x87</a></li></ul>\\n\\t\\t\\n\\t</div>\\n</nav>\\n\\n</div>\\n\\n</div>\\n<footer id=\"footer\" class=\"mw-footer\" role=\"contentinfo\" >\\n\\t<ul id=\"footer-info\" >\\n\\t\\t<li id=\"footer-info-lastmod\"> This page was last edited on 23 July 2020, at 12:44<span class=\"anonymous-show\">&#160;(UTC)</span>.</li>\\n\\t\\t<li id=\"footer-info-copyright\">Text is available under the <a rel=\"license\" href=\"//en.wikipedia.org/wiki/Wikipedia:Text_of_Creative_Commons_Attribution-ShareAlike_3.0_Unported_License\">Creative Commons Attribution-ShareAlike License</a><a rel=\"license\" href=\"//creativecommons.org/licenses/by-sa/3.0/\" style=\"display:none;\"></a>;\\nadditional terms may apply.  By using this site, you agree to the <a href=\"//foundation.wikimedia.org/wiki/Terms_of_Use\">Terms of Use</a> and <a href=\"//foundation.wikimedia.org/wiki/Privacy_policy\">Privacy Policy</a>. Wikipedia\\xc2\\xae is a registered trademark of the <a href=\"//www.wikimediafoundation.org/\">Wikimedia Foundation, Inc.</a>, a non-profit organization.</li>\\n\\t</ul>\\n\\t<ul id=\"footer-places\" >\\n\\t\\t<li id=\"footer-places-privacy\"><a href=\"https://foundation.wikimedia.org/wiki/Privacy_policy\" class=\"extiw\" title=\"wmf:Privacy policy\">Privacy policy</a></li>\\n\\t\\t<li id=\"footer-places-about\"><a href=\"/wiki/Wikipedia:About\" title=\"Wikipedia:About\">About Wikipedia</a></li>\\n\\t\\t<li id=\"footer-places-disclaimer\"><a href=\"/wiki/Wikipedia:General_disclaimer\" title=\"Wikipedia:General disclaimer\">Disclaimers</a></li>\\n\\t\\t<li id=\"footer-places-contact\"><a href=\"//en.wikipedia.org/wiki/Wikipedia:Contact_us\">Contact Wikipedia</a></li>\\n\\t\\t<li id=\"footer-places-mobileview\"><a href=\"//en.m.wikipedia.org/w/index.php?title=Main_Page&amp;mobileaction=toggle_view_mobile\" class=\"noprint stopMobileRedirectToggle\">Mobile view</a></li>\\n\\t\\t<li id=\"footer-places-developers\"><a href=\"https://www.mediawiki.org/wiki/Special:MyLanguage/How_to_contribute\">Developers</a></li>\\n\\t\\t<li id=\"footer-places-statslink\"><a href=\"https://stats.wikimedia.org/#/en.wikipedia.org\">Statistics</a></li>\\n\\t\\t<li id=\"footer-places-cookiestatement\"><a href=\"https://foundation.wikimedia.org/wiki/Cookie_statement\">Cookie statement</a></li>\\n\\t</ul>\\n\\t<ul id=\"footer-icons\" class=\"noprint\">\\n\\t\\t<li id=\"footer-copyrightico\"><a href=\"https://wikimediafoundation.org/\"><img src=\"/static/images/footer/wikimedia-button.png\" srcset=\"/static/images/footer/wikimedia-button-1.5x.png 1.5x, /static/images/footer/wikimedia-button-2x.png 2x\" width=\"88\" height=\"31\" alt=\"Wikimedia Foundation\" loading=\"lazy\" /></a></li>\\n\\t\\t<li id=\"footer-poweredbyico\"><a href=\"https://www.mediawiki.org/\"><img src=\"/static/images/footer/poweredby_mediawiki_88x31.png\" alt=\"Powered by MediaWiki\" srcset=\"/static/images/footer/poweredby_mediawiki_132x47.png 1.5x, /static/images/footer/poweredby_mediawiki_176x62.png 2x\" width=\"88\" height=\"31\" loading=\"lazy\"/></a></li>\\n\\t</ul>\\n\\t<div style=\"clear: both;\"></div>\\n</footer>\\n\\n\\n<script>(RLQ=window.RLQ||[]).push(function(){mw.config.set({\"wgPageParseReport\":{\"limitreport\":{\"cputime\":\"0.476\",\"walltime\":\"0.633\",\"ppvisitednodes\":{\"value\":4130,\"limit\":1000000},\"postexpandincludesize\":{\"value\":115193,\"limit\":2097152},\"templateargumentsize\":{\"value\":7644,\"limit\":2097152},\"expansiondepth\":{\"value\":21,\"limit\":40},\"expensivefunctioncount\":{\"value\":14,\"limit\":500},\"unstrip-depth\":{\"value\":0,\"limit\":20},\"unstrip-size\":{\"value\":5381,\"limit\":5000000},\"entityaccesscount\":{\"value\":0,\"limit\":400},\"timingprofile\":[\"100.00%  444.669      1 -total\",\" 31.01%  137.889      8 Template:Main_page_image\",\" 27.40%  121.826      1 Wikipedia:Main_Page/Tomorrow\",\" 19.06%   84.759      2 Template:In_the_news\",\" 18.07%   80.340      1 Wikipedia:Selected_anniversaries/September_15\",\" 18.04%   80.236      8 Template:Str_number/trim\",\" 16.69%   74.194     24 Template:If_empty\",\" 15.44%   68.677      1 Wikipedia:Today\\'s_featured_article/September_15,_2020\",\" 14.62%   65.009      2 Template:Main_page_image/TFA\",\" 13.82%   61.444      2 Template:Wikipedia_languages\"]},\"scribunto\":{\"limitreport-timeusage\":{\"value\":\"0.107\",\"limit\":\"10.000\"},\"limitreport-memusage\":{\"value\":4527855,\"limit\":52428800}},\"cachereport\":{\"origin\":\"mw2226\",\"timestamp\":\"20200915130657\",\"ttl\":3600,\"transientcontent\":true}}});});</script>\\n<script type=\"application/ld+json\">{\"@context\":\"https:\\\\/\\\\/schema.org\",\"@type\":\"Article\",\"name\":\"Main Page\",\"url\":\"https:\\\\/\\\\/en.wikipedia.org\\\\/wiki\\\\/Main_Page\",\"sameAs\":\"http:\\\\/\\\\/www.wikidata.org\\\\/entity\\\\/Q5296\",\"mainEntity\":\"http:\\\\/\\\\/www.wikidata.org\\\\/entity\\\\/Q5296\",\"author\":{\"@type\":\"Organization\",\"name\":\"Contributors to Wikimedia projects\"},\"publisher\":{\"@type\":\"Organization\",\"name\":\"Wikimedia Foundation, Inc.\",\"logo\":{\"@type\":\"ImageObject\",\"url\":\"https:\\\\/\\\\/www.wikimedia.org\\\\/static\\\\/images\\\\/wmf-hor-googpub.png\"}},\"datePublished\":\"2002-01-26T15:28:12Z\",\"dateModified\":\"2020-07-23T12:44:21Z\",\"image\":\"https:\\\\/\\\\/upload.wikimedia.org\\\\/wikipedia\\\\/commons\\\\/6\\\\/65\\\\/Martinsville_Speedway%2C_September_2011_overview.JPG\",\"headline\":\"main page of a Wikimedia project (common for Wikipedia, Wiktionary and other projects)\"}</script>\\n<script>(RLQ=window.RLQ||[]).push(function(){mw.config.set({\"wgBackendResponseTime\":124,\"wgHostname\":\"mw2228\"});});</script>\\n</body></html>'\n"
          ],
          "name": "stdout"
        }
      ]
    },
    {
      "cell_type": "code",
      "metadata": {
        "id": "0dGq1Gd69aEl"
      },
      "source": [
        "parsed_article = bs.BeautifulSoup(article,'lxml')      #to parse the data"
      ],
      "execution_count": null,
      "outputs": []
    },
    {
      "cell_type": "code",
      "metadata": {
        "id": "BDQhKr8M9aEo"
      },
      "source": [
        "paragraphs = parsed_article.find_all('p')     #text enclosed within <p> tag is retrieved"
      ],
      "execution_count": null,
      "outputs": []
    },
    {
      "cell_type": "code",
      "metadata": {
        "id": "bN_FhBzB9aEv"
      },
      "source": [
        "article_text = \"\"     #to combine the paragraphs"
      ],
      "execution_count": null,
      "outputs": []
    },
    {
      "cell_type": "code",
      "metadata": {
        "id": "bxlFTCs39aEx"
      },
      "source": [
        "for p in paragraphs:  \n",
        "    article_text += p.text"
      ],
      "execution_count": null,
      "outputs": []
    },
    {
      "cell_type": "code",
      "metadata": {
        "id": "79MbCuFi9aE0"
      },
      "source": [
        "#Pre-processing\n",
        "#Removing square brackets and extra spaces\n",
        "article_text = re.sub(r'\\[[0-9]*\\]', ' ', article_text)  \n",
        "article_text = re.sub(r'\\s+', ' ', article_text)"
      ],
      "execution_count": null,
      "outputs": []
    },
    {
      "cell_type": "code",
      "metadata": {
        "id": "aFmAE96-9aE2",
        "outputId": "9a1cacd8-938c-4c92-d6a1-3b0c7daeae96",
        "colab": {
          "base_uri": "https://localhost:8080/",
          "height": 54
        }
      },
      "source": [
        "print(article_text)"
      ],
      "execution_count": null,
      "outputs": [
        {
          "output_type": "stream",
          "text": [
            "The 2006 Subway 500 was the 32nd stock car race of the 2006 NASCAR Nextel Cup Series and the sixth in the ten-race Chase for the Nextel Cup. It was held on October 22, 2006, before a crowd of 65,000, at Martinsville Speedway (pictured) in Martinsville, Virginia, one of five short tracks to hold NASCAR races. The 500-lap race was won by Jimmie Johnson of Hendrick Motorsports; Denny Hamlin finished second, and Bobby Labonte came in third. Kurt Busch won the pole position with the fastest time in qualifying; Johnson started from ninth position. There were 18 cautions and 16 lead changes by five different drivers during the race. Johnson's win was his fifth of the 2006 season, and the 23rd of his career. The result advanced him to third in the Drivers' Championship, 41 points behind Matt Kenseth, who took over the championship lead after Jeff Burton retired from the race. Chevrolet maintained its lead in the Manufacturers' Championship with four races left in the season. (Full article...) September 15: Battle of Britain Day in the United Kingdom (1940); Free Money Day Macrotyloma uniflorum, commonly known as horse gram, is a legume native to tropical southern Asia. The plant grows from a rhizome, sending up annual shoots to a height of 60 cm (24 in). The flowers are cream, yellow or pale green and are followed by short pods. The seeds, pictured here, have been consumed in India for at least 4,000 years and are used both for animal feed and human consumption, including Ayurvedic cuisine. In other tropical countries in southeastern Asia, and in northern Australia, the plant is grown mainly as a fodder crop and for use as green manure. It is a drought-tolerant plant, largely cultivated in areas with low rainfall. Photograph credit: Prathyush ThomasWikipedia is hosted by the Wikimedia Foundation, a non-profit organization that also hosts a range of other projects: This Wikipedia is written in English. Started in 2001 (2001), it currently contains 6,158,529 articles. Many other Wikipedias are available; some of the largest are listed below. \n"
          ],
          "name": "stdout"
        }
      ]
    },
    {
      "cell_type": "code",
      "metadata": {
        "id": "49U1qEbD9aE6"
      },
      "source": [
        "#Removing special characters and digits\n",
        "formatted_article_text = re.sub('[^a-zA-Z]', ' ', article_text )  \n",
        "formatted_article_text = re.sub(r'\\s+', ' ', formatted_article_text)"
      ],
      "execution_count": null,
      "outputs": []
    },
    {
      "cell_type": "code",
      "metadata": {
        "id": "Vk6FMcCH9aE-",
        "outputId": "caebdccc-6523-4bd1-d6d3-320b42e57cba",
        "colab": {
          "base_uri": "https://localhost:8080/",
          "height": 54
        }
      },
      "source": [
        "print(formatted_article_text)"
      ],
      "execution_count": null,
      "outputs": [
        {
          "output_type": "stream",
          "text": [
            "The Subway was the nd stock car race of the NASCAR Nextel Cup Series and the sixth in the ten race Chase for the Nextel Cup It was held on October before a crowd of at Martinsville Speedway pictured in Martinsville Virginia one of five short tracks to hold NASCAR races The lap race was won by Jimmie Johnson of Hendrick Motorsports Denny Hamlin finished second and Bobby Labonte came in third Kurt Busch won the pole position with the fastest time in qualifying Johnson started from ninth position There were cautions and lead changes by five different drivers during the race Johnson s win was his fifth of the season and the rd of his career The result advanced him to third in the Drivers Championship points behind Matt Kenseth who took over the championship lead after Jeff Burton retired from the race Chevrolet maintained its lead in the Manufacturers Championship with four races left in the season Full article September Battle of Britain Day in the United Kingdom Free Money Day Macrotyloma uniflorum commonly known as horse gram is a legume native to tropical southern Asia The plant grows from a rhizome sending up annual shoots to a height of cm in The flowers are cream yellow or pale green and are followed by short pods The seeds pictured here have been consumed in India for at least years and are used both for animal feed and human consumption including Ayurvedic cuisine In other tropical countries in southeastern Asia and in northern Australia the plant is grown mainly as a fodder crop and for use as green manure It is a drought tolerant plant largely cultivated in areas with low rainfall Photograph credit Prathyush ThomasWikipedia is hosted by the Wikimedia Foundation a non profit organization that also hosts a range of other projects This Wikipedia is written in English Started in it currently contains articles Many other Wikipedias are available some of the largest are listed below \n"
          ],
          "name": "stdout"
        }
      ]
    },
    {
      "cell_type": "code",
      "metadata": {
        "id": "eyBJZ6GJ9aFC",
        "outputId": "2d58bff2-e057-4913-f152-870be87487ed",
        "colab": {
          "base_uri": "https://localhost:8080/",
          "height": 50
        }
      },
      "source": [
        "nltk.download('punkt')\n",
        "text = word_tokenize(article_text)"
      ],
      "execution_count": null,
      "outputs": [
        {
          "output_type": "stream",
          "text": [
            "[nltk_data] Downloading package punkt to /root/nltk_data...\n",
            "[nltk_data]   Package punkt is already up-to-date!\n"
          ],
          "name": "stdout"
        }
      ]
    },
    {
      "cell_type": "code",
      "metadata": {
        "id": "r-8bxf-O9aFE",
        "outputId": "c8bc1271-71ef-4790-e18d-23d74c40c2c0",
        "colab": {
          "base_uri": "https://localhost:8080/",
          "height": 121
        }
      },
      "source": [
        "nltk.download('averaged_perceptron_tagger')\n",
        "tagged = nltk.pos_tag(text)\n",
        "print(tagged)"
      ],
      "execution_count": null,
      "outputs": [
        {
          "output_type": "stream",
          "text": [
            "[nltk_data] Downloading package averaged_perceptron_tagger to\n",
            "[nltk_data]     /root/nltk_data...\n",
            "[nltk_data]   Package averaged_perceptron_tagger is already up-to-\n",
            "[nltk_data]       date!\n",
            "[('The', 'DT'), ('2006', 'CD'), ('Subway', 'NNP'), ('500', 'CD'), ('was', 'VBD'), ('the', 'DT'), ('32nd', 'CD'), ('stock', 'NN'), ('car', 'NN'), ('race', 'NN'), ('of', 'IN'), ('the', 'DT'), ('2006', 'CD'), ('NASCAR', 'NNP'), ('Nextel', 'NNP'), ('Cup', 'NNP'), ('Series', 'NNP'), ('and', 'CC'), ('the', 'DT'), ('sixth', 'JJ'), ('in', 'IN'), ('the', 'DT'), ('ten-race', 'JJ'), ('Chase', 'NNP'), ('for', 'IN'), ('the', 'DT'), ('Nextel', 'NNP'), ('Cup', 'NNP'), ('.', '.'), ('It', 'PRP'), ('was', 'VBD'), ('held', 'VBN'), ('on', 'IN'), ('October', 'NNP'), ('22', 'CD'), (',', ','), ('2006', 'CD'), (',', ','), ('before', 'IN'), ('a', 'DT'), ('crowd', 'NN'), ('of', 'IN'), ('65,000', 'CD'), (',', ','), ('at', 'IN'), ('Martinsville', 'NNP'), ('Speedway', 'NNP'), ('(', '('), ('pictured', 'VBN'), (')', ')'), ('in', 'IN'), ('Martinsville', 'NNP'), (',', ','), ('Virginia', 'NNP'), (',', ','), ('one', 'CD'), ('of', 'IN'), ('five', 'CD'), ('short', 'JJ'), ('tracks', 'NNS'), ('to', 'TO'), ('hold', 'VB'), ('NASCAR', 'NNP'), ('races', 'NNS'), ('.', '.'), ('The', 'DT'), ('500-lap', 'JJ'), ('race', 'NN'), ('was', 'VBD'), ('won', 'VBN'), ('by', 'IN'), ('Jimmie', 'NNP'), ('Johnson', 'NNP'), ('of', 'IN'), ('Hendrick', 'NNP'), ('Motorsports', 'NNP'), (';', ':'), ('Denny', 'NNP'), ('Hamlin', 'NNP'), ('finished', 'VBD'), ('second', 'JJ'), (',', ','), ('and', 'CC'), ('Bobby', 'NNP'), ('Labonte', 'NNP'), ('came', 'VBD'), ('in', 'IN'), ('third', 'JJ'), ('.', '.'), ('Kurt', 'NNP'), ('Busch', 'NNP'), ('won', 'VBD'), ('the', 'DT'), ('pole', 'JJ'), ('position', 'NN'), ('with', 'IN'), ('the', 'DT'), ('fastest', 'JJS'), ('time', 'NN'), ('in', 'IN'), ('qualifying', 'VBG'), (';', ':'), ('Johnson', 'NNP'), ('started', 'VBD'), ('from', 'IN'), ('ninth', 'JJ'), ('position', 'NN'), ('.', '.'), ('There', 'EX'), ('were', 'VBD'), ('18', 'CD'), ('cautions', 'NNS'), ('and', 'CC'), ('16', 'CD'), ('lead', 'NN'), ('changes', 'NNS'), ('by', 'IN'), ('five', 'CD'), ('different', 'JJ'), ('drivers', 'NNS'), ('during', 'IN'), ('the', 'DT'), ('race', 'NN'), ('.', '.'), ('Johnson', 'NNP'), (\"'s\", 'POS'), ('win', 'NN'), ('was', 'VBD'), ('his', 'PRP$'), ('fifth', 'NN'), ('of', 'IN'), ('the', 'DT'), ('2006', 'CD'), ('season', 'NN'), (',', ','), ('and', 'CC'), ('the', 'DT'), ('23rd', 'CD'), ('of', 'IN'), ('his', 'PRP$'), ('career', 'NN'), ('.', '.'), ('The', 'DT'), ('result', 'NN'), ('advanced', 'VBD'), ('him', 'PRP'), ('to', 'TO'), ('third', 'VB'), ('in', 'IN'), ('the', 'DT'), ('Drivers', 'NNP'), (\"'\", 'POS'), ('Championship', 'NNP'), (',', ','), ('41', 'CD'), ('points', 'NNS'), ('behind', 'IN'), ('Matt', 'NNP'), ('Kenseth', 'NNP'), (',', ','), ('who', 'WP'), ('took', 'VBD'), ('over', 'RP'), ('the', 'DT'), ('championship', 'NN'), ('lead', 'NN'), ('after', 'IN'), ('Jeff', 'NNP'), ('Burton', 'NNP'), ('retired', 'VBD'), ('from', 'IN'), ('the', 'DT'), ('race', 'NN'), ('.', '.'), ('Chevrolet', 'NNP'), ('maintained', 'VBD'), ('its', 'PRP$'), ('lead', 'NN'), ('in', 'IN'), ('the', 'DT'), ('Manufacturers', 'NNP'), (\"'\", 'POS'), ('Championship', 'NNP'), ('with', 'IN'), ('four', 'CD'), ('races', 'NNS'), ('left', 'VBN'), ('in', 'IN'), ('the', 'DT'), ('season', 'NN'), ('.', '.'), ('(', '('), ('Full', 'JJ'), ('article', 'NN'), ('...', ':'), (')', ')'), ('September', 'NNP'), ('15', 'CD'), (':', ':'), ('Battle', 'NNP'), ('of', 'IN'), ('Britain', 'NNP'), ('Day', 'NNP'), ('in', 'IN'), ('the', 'DT'), ('United', 'NNP'), ('Kingdom', 'NNP'), ('(', '('), ('1940', 'CD'), (')', ')'), (';', ':'), ('Free', 'JJ'), ('Money', 'NNP'), ('Day', 'NNP'), ('Macrotyloma', 'NNP'), ('uniflorum', 'NN'), (',', ','), ('commonly', 'RB'), ('known', 'VBN'), ('as', 'IN'), ('horse', 'NN'), ('gram', 'NN'), (',', ','), ('is', 'VBZ'), ('a', 'DT'), ('legume', 'JJ'), ('native', 'JJ'), ('to', 'TO'), ('tropical', 'JJ'), ('southern', 'JJ'), ('Asia', 'NNP'), ('.', '.'), ('The', 'DT'), ('plant', 'NN'), ('grows', 'VBZ'), ('from', 'IN'), ('a', 'DT'), ('rhizome', 'NN'), (',', ','), ('sending', 'VBG'), ('up', 'RP'), ('annual', 'JJ'), ('shoots', 'NNS'), ('to', 'TO'), ('a', 'DT'), ('height', 'NN'), ('of', 'IN'), ('60', 'CD'), ('cm', 'NN'), ('(', '('), ('24', 'CD'), ('in', 'IN'), (')', ')'), ('.', '.'), ('The', 'DT'), ('flowers', 'NNS'), ('are', 'VBP'), ('cream', 'NN'), (',', ','), ('yellow', \"''\"), ('or', 'CC'), ('pale', 'VB'), ('green', 'JJ'), ('and', 'CC'), ('are', 'VBP'), ('followed', 'VBN'), ('by', 'IN'), ('short', 'JJ'), ('pods', 'NNS'), ('.', '.'), ('The', 'DT'), ('seeds', 'NNS'), (',', ','), ('pictured', 'VBN'), ('here', 'RB'), (',', ','), ('have', 'VBP'), ('been', 'VBN'), ('consumed', 'VBN'), ('in', 'IN'), ('India', 'NNP'), ('for', 'IN'), ('at', 'IN'), ('least', 'JJS'), ('4,000', 'CD'), ('years', 'NNS'), ('and', 'CC'), ('are', 'VBP'), ('used', 'VBN'), ('both', 'DT'), ('for', 'IN'), ('animal', 'NN'), ('feed', 'NN'), ('and', 'CC'), ('human', 'JJ'), ('consumption', 'NN'), (',', ','), ('including', 'VBG'), ('Ayurvedic', 'NNP'), ('cuisine', 'NN'), ('.', '.'), ('In', 'IN'), ('other', 'JJ'), ('tropical', 'JJ'), ('countries', 'NNS'), ('in', 'IN'), ('southeastern', 'JJ'), ('Asia', 'NNP'), (',', ','), ('and', 'CC'), ('in', 'IN'), ('northern', 'JJ'), ('Australia', 'NNP'), (',', ','), ('the', 'DT'), ('plant', 'NN'), ('is', 'VBZ'), ('grown', 'VBN'), ('mainly', 'RB'), ('as', 'IN'), ('a', 'DT'), ('fodder', 'NN'), ('crop', 'NN'), ('and', 'CC'), ('for', 'IN'), ('use', 'NN'), ('as', 'IN'), ('green', 'JJ'), ('manure', 'NN'), ('.', '.'), ('It', 'PRP'), ('is', 'VBZ'), ('a', 'DT'), ('drought-tolerant', 'JJ'), ('plant', 'NN'), (',', ','), ('largely', 'RB'), ('cultivated', 'VBN'), ('in', 'IN'), ('areas', 'NNS'), ('with', 'IN'), ('low', 'JJ'), ('rainfall', 'NN'), ('.', '.'), ('Photograph', 'NNP'), ('credit', 'NN'), (':', ':'), ('Prathyush', 'JJ'), ('ThomasWikipedia', 'NNP'), ('is', 'VBZ'), ('hosted', 'VBN'), ('by', 'IN'), ('the', 'DT'), ('Wikimedia', 'NNP'), ('Foundation', 'NNP'), (',', ','), ('a', 'DT'), ('non-profit', 'JJ'), ('organization', 'NN'), ('that', 'WDT'), ('also', 'RB'), ('hosts', 'VBZ'), ('a', 'DT'), ('range', 'NN'), ('of', 'IN'), ('other', 'JJ'), ('projects', 'NNS'), (':', ':'), ('This', 'DT'), ('Wikipedia', 'NNP'), ('is', 'VBZ'), ('written', 'VBN'), ('in', 'IN'), ('English', 'NNP'), ('.', '.'), ('Started', 'VBN'), ('in', 'IN'), ('2001', 'CD'), ('(', '('), ('2001', 'CD'), (')', ')'), (',', ','), ('it', 'PRP'), ('currently', 'RB'), ('contains', 'VBZ'), ('6,158,529', 'CD'), ('articles', 'NNS'), ('.', '.'), ('Many', 'JJ'), ('other', 'JJ'), ('Wikipedias', 'NNP'), ('are', 'VBP'), ('available', 'JJ'), (';', ':'), ('some', 'DT'), ('of', 'IN'), ('the', 'DT'), ('largest', 'JJS'), ('are', 'VBP'), ('listed', 'VBN'), ('below', 'IN'), ('.', '.')]\n"
          ],
          "name": "stdout"
        }
      ]
    },
    {
      "cell_type": "code",
      "metadata": {
        "id": "-nRCqxS49aFH"
      },
      "source": [
        "pattern = 'NP: {<DT>?<JJ>*<NN>}'"
      ],
      "execution_count": null,
      "outputs": []
    },
    {
      "cell_type": "code",
      "metadata": {
        "id": "kE94W9iu9aFJ",
        "outputId": "e812125f-0f17-4ca7-e3b1-ed9127bd309c",
        "colab": {
          "base_uri": "https://localhost:8080/",
          "height": 1000
        }
      },
      "source": [
        "cp = nltk.RegexpParser(pattern)\n",
        "cs = cp.parse(tagged)\n",
        "print(cs)"
      ],
      "execution_count": null,
      "outputs": [
        {
          "output_type": "stream",
          "text": [
            "(S\n",
            "  The/DT\n",
            "  2006/CD\n",
            "  Subway/NNP\n",
            "  500/CD\n",
            "  was/VBD\n",
            "  the/DT\n",
            "  32nd/CD\n",
            "  (NP stock/NN)\n",
            "  (NP car/NN)\n",
            "  (NP race/NN)\n",
            "  of/IN\n",
            "  the/DT\n",
            "  2006/CD\n",
            "  NASCAR/NNP\n",
            "  Nextel/NNP\n",
            "  Cup/NNP\n",
            "  Series/NNP\n",
            "  and/CC\n",
            "  the/DT\n",
            "  sixth/JJ\n",
            "  in/IN\n",
            "  the/DT\n",
            "  ten-race/JJ\n",
            "  Chase/NNP\n",
            "  for/IN\n",
            "  the/DT\n",
            "  Nextel/NNP\n",
            "  Cup/NNP\n",
            "  ./.\n",
            "  It/PRP\n",
            "  was/VBD\n",
            "  held/VBN\n",
            "  on/IN\n",
            "  October/NNP\n",
            "  22/CD\n",
            "  ,/,\n",
            "  2006/CD\n",
            "  ,/,\n",
            "  before/IN\n",
            "  (NP a/DT crowd/NN)\n",
            "  of/IN\n",
            "  65,000/CD\n",
            "  ,/,\n",
            "  at/IN\n",
            "  Martinsville/NNP\n",
            "  Speedway/NNP\n",
            "  (/(\n",
            "  pictured/VBN\n",
            "  )/)\n",
            "  in/IN\n",
            "  Martinsville/NNP\n",
            "  ,/,\n",
            "  Virginia/NNP\n",
            "  ,/,\n",
            "  one/CD\n",
            "  of/IN\n",
            "  five/CD\n",
            "  short/JJ\n",
            "  tracks/NNS\n",
            "  to/TO\n",
            "  hold/VB\n",
            "  NASCAR/NNP\n",
            "  races/NNS\n",
            "  ./.\n",
            "  (NP The/DT 500-lap/JJ race/NN)\n",
            "  was/VBD\n",
            "  won/VBN\n",
            "  by/IN\n",
            "  Jimmie/NNP\n",
            "  Johnson/NNP\n",
            "  of/IN\n",
            "  Hendrick/NNP\n",
            "  Motorsports/NNP\n",
            "  ;/:\n",
            "  Denny/NNP\n",
            "  Hamlin/NNP\n",
            "  finished/VBD\n",
            "  second/JJ\n",
            "  ,/,\n",
            "  and/CC\n",
            "  Bobby/NNP\n",
            "  Labonte/NNP\n",
            "  came/VBD\n",
            "  in/IN\n",
            "  third/JJ\n",
            "  ./.\n",
            "  Kurt/NNP\n",
            "  Busch/NNP\n",
            "  won/VBD\n",
            "  (NP the/DT pole/JJ position/NN)\n",
            "  with/IN\n",
            "  the/DT\n",
            "  fastest/JJS\n",
            "  (NP time/NN)\n",
            "  in/IN\n",
            "  qualifying/VBG\n",
            "  ;/:\n",
            "  Johnson/NNP\n",
            "  started/VBD\n",
            "  from/IN\n",
            "  (NP ninth/JJ position/NN)\n",
            "  ./.\n",
            "  There/EX\n",
            "  were/VBD\n",
            "  18/CD\n",
            "  cautions/NNS\n",
            "  and/CC\n",
            "  16/CD\n",
            "  (NP lead/NN)\n",
            "  changes/NNS\n",
            "  by/IN\n",
            "  five/CD\n",
            "  different/JJ\n",
            "  drivers/NNS\n",
            "  during/IN\n",
            "  (NP the/DT race/NN)\n",
            "  ./.\n",
            "  Johnson/NNP\n",
            "  's/POS\n",
            "  (NP win/NN)\n",
            "  was/VBD\n",
            "  his/PRP$\n",
            "  (NP fifth/NN)\n",
            "  of/IN\n",
            "  the/DT\n",
            "  2006/CD\n",
            "  (NP season/NN)\n",
            "  ,/,\n",
            "  and/CC\n",
            "  the/DT\n",
            "  23rd/CD\n",
            "  of/IN\n",
            "  his/PRP$\n",
            "  (NP career/NN)\n",
            "  ./.\n",
            "  (NP The/DT result/NN)\n",
            "  advanced/VBD\n",
            "  him/PRP\n",
            "  to/TO\n",
            "  third/VB\n",
            "  in/IN\n",
            "  the/DT\n",
            "  Drivers/NNP\n",
            "  '/POS\n",
            "  Championship/NNP\n",
            "  ,/,\n",
            "  41/CD\n",
            "  points/NNS\n",
            "  behind/IN\n",
            "  Matt/NNP\n",
            "  Kenseth/NNP\n",
            "  ,/,\n",
            "  who/WP\n",
            "  took/VBD\n",
            "  over/RP\n",
            "  (NP the/DT championship/NN)\n",
            "  (NP lead/NN)\n",
            "  after/IN\n",
            "  Jeff/NNP\n",
            "  Burton/NNP\n",
            "  retired/VBD\n",
            "  from/IN\n",
            "  (NP the/DT race/NN)\n",
            "  ./.\n",
            "  Chevrolet/NNP\n",
            "  maintained/VBD\n",
            "  its/PRP$\n",
            "  (NP lead/NN)\n",
            "  in/IN\n",
            "  the/DT\n",
            "  Manufacturers/NNP\n",
            "  '/POS\n",
            "  Championship/NNP\n",
            "  with/IN\n",
            "  four/CD\n",
            "  races/NNS\n",
            "  left/VBN\n",
            "  in/IN\n",
            "  (NP the/DT season/NN)\n",
            "  ./.\n",
            "  (/(\n",
            "  (NP Full/JJ article/NN)\n",
            "  .../:\n",
            "  )/)\n",
            "  September/NNP\n",
            "  15/CD\n",
            "  :/:\n",
            "  Battle/NNP\n",
            "  of/IN\n",
            "  Britain/NNP\n",
            "  Day/NNP\n",
            "  in/IN\n",
            "  the/DT\n",
            "  United/NNP\n",
            "  Kingdom/NNP\n",
            "  (/(\n",
            "  1940/CD\n",
            "  )/)\n",
            "  ;/:\n",
            "  Free/JJ\n",
            "  Money/NNP\n",
            "  Day/NNP\n",
            "  Macrotyloma/NNP\n",
            "  (NP uniflorum/NN)\n",
            "  ,/,\n",
            "  commonly/RB\n",
            "  known/VBN\n",
            "  as/IN\n",
            "  (NP horse/NN)\n",
            "  (NP gram/NN)\n",
            "  ,/,\n",
            "  is/VBZ\n",
            "  a/DT\n",
            "  legume/JJ\n",
            "  native/JJ\n",
            "  to/TO\n",
            "  tropical/JJ\n",
            "  southern/JJ\n",
            "  Asia/NNP\n",
            "  ./.\n",
            "  (NP The/DT plant/NN)\n",
            "  grows/VBZ\n",
            "  from/IN\n",
            "  (NP a/DT rhizome/NN)\n",
            "  ,/,\n",
            "  sending/VBG\n",
            "  up/RP\n",
            "  annual/JJ\n",
            "  shoots/NNS\n",
            "  to/TO\n",
            "  (NP a/DT height/NN)\n",
            "  of/IN\n",
            "  60/CD\n",
            "  (NP cm/NN)\n",
            "  (/(\n",
            "  24/CD\n",
            "  in/IN\n",
            "  )/)\n",
            "  ./.\n",
            "  The/DT\n",
            "  flowers/NNS\n",
            "  are/VBP\n",
            "  (NP cream/NN)\n",
            "  ,/,\n",
            "  yellow/''\n",
            "  or/CC\n",
            "  pale/VB\n",
            "  green/JJ\n",
            "  and/CC\n",
            "  are/VBP\n",
            "  followed/VBN\n",
            "  by/IN\n",
            "  short/JJ\n",
            "  pods/NNS\n",
            "  ./.\n",
            "  The/DT\n",
            "  seeds/NNS\n",
            "  ,/,\n",
            "  pictured/VBN\n",
            "  here/RB\n",
            "  ,/,\n",
            "  have/VBP\n",
            "  been/VBN\n",
            "  consumed/VBN\n",
            "  in/IN\n",
            "  India/NNP\n",
            "  for/IN\n",
            "  at/IN\n",
            "  least/JJS\n",
            "  4,000/CD\n",
            "  years/NNS\n",
            "  and/CC\n",
            "  are/VBP\n",
            "  used/VBN\n",
            "  both/DT\n",
            "  for/IN\n",
            "  (NP animal/NN)\n",
            "  (NP feed/NN)\n",
            "  and/CC\n",
            "  (NP human/JJ consumption/NN)\n",
            "  ,/,\n",
            "  including/VBG\n",
            "  Ayurvedic/NNP\n",
            "  (NP cuisine/NN)\n",
            "  ./.\n",
            "  In/IN\n",
            "  other/JJ\n",
            "  tropical/JJ\n",
            "  countries/NNS\n",
            "  in/IN\n",
            "  southeastern/JJ\n",
            "  Asia/NNP\n",
            "  ,/,\n",
            "  and/CC\n",
            "  in/IN\n",
            "  northern/JJ\n",
            "  Australia/NNP\n",
            "  ,/,\n",
            "  (NP the/DT plant/NN)\n",
            "  is/VBZ\n",
            "  grown/VBN\n",
            "  mainly/RB\n",
            "  as/IN\n",
            "  (NP a/DT fodder/NN)\n",
            "  (NP crop/NN)\n",
            "  and/CC\n",
            "  for/IN\n",
            "  (NP use/NN)\n",
            "  as/IN\n",
            "  (NP green/JJ manure/NN)\n",
            "  ./.\n",
            "  It/PRP\n",
            "  is/VBZ\n",
            "  (NP a/DT drought-tolerant/JJ plant/NN)\n",
            "  ,/,\n",
            "  largely/RB\n",
            "  cultivated/VBN\n",
            "  in/IN\n",
            "  areas/NNS\n",
            "  with/IN\n",
            "  (NP low/JJ rainfall/NN)\n",
            "  ./.\n",
            "  Photograph/NNP\n",
            "  (NP credit/NN)\n",
            "  :/:\n",
            "  Prathyush/JJ\n",
            "  ThomasWikipedia/NNP\n",
            "  is/VBZ\n",
            "  hosted/VBN\n",
            "  by/IN\n",
            "  the/DT\n",
            "  Wikimedia/NNP\n",
            "  Foundation/NNP\n",
            "  ,/,\n",
            "  (NP a/DT non-profit/JJ organization/NN)\n",
            "  that/WDT\n",
            "  also/RB\n",
            "  hosts/VBZ\n",
            "  (NP a/DT range/NN)\n",
            "  of/IN\n",
            "  other/JJ\n",
            "  projects/NNS\n",
            "  :/:\n",
            "  This/DT\n",
            "  Wikipedia/NNP\n",
            "  is/VBZ\n",
            "  written/VBN\n",
            "  in/IN\n",
            "  English/NNP\n",
            "  ./.\n",
            "  Started/VBN\n",
            "  in/IN\n",
            "  2001/CD\n",
            "  (/(\n",
            "  2001/CD\n",
            "  )/)\n",
            "  ,/,\n",
            "  it/PRP\n",
            "  currently/RB\n",
            "  contains/VBZ\n",
            "  6,158,529/CD\n",
            "  articles/NNS\n",
            "  ./.\n",
            "  Many/JJ\n",
            "  other/JJ\n",
            "  Wikipedias/NNP\n",
            "  are/VBP\n",
            "  available/JJ\n",
            "  ;/:\n",
            "  some/DT\n",
            "  of/IN\n",
            "  the/DT\n",
            "  largest/JJS\n",
            "  are/VBP\n",
            "  listed/VBN\n",
            "  below/IN\n",
            "  ./.)\n"
          ],
          "name": "stdout"
        }
      ]
    },
    {
      "cell_type": "code",
      "metadata": {
        "id": "_6IEN2RU9aFN"
      },
      "source": [
        "from nltk.chunk import conlltags2tree, tree2conlltags\n",
        "from pprint import pprint"
      ],
      "execution_count": null,
      "outputs": []
    },
    {
      "cell_type": "code",
      "metadata": {
        "id": "X_OyARQH9aFP",
        "outputId": "311fb7f7-2413-4b3c-8528-d8401e24f3b9",
        "colab": {
          "base_uri": "https://localhost:8080/",
          "height": 1000
        }
      },
      "source": [
        "iob_tagged = tree2conlltags(cs)\n",
        "pprint(iob_tagged)\n",
        "#B - beginning, O - outsite, I - Internal"
      ],
      "execution_count": null,
      "outputs": [
        {
          "output_type": "stream",
          "text": [
            "[('The', 'DT', 'O'),\n",
            " ('2006', 'CD', 'O'),\n",
            " ('Subway', 'NNP', 'O'),\n",
            " ('500', 'CD', 'O'),\n",
            " ('was', 'VBD', 'O'),\n",
            " ('the', 'DT', 'O'),\n",
            " ('32nd', 'CD', 'O'),\n",
            " ('stock', 'NN', 'B-NP'),\n",
            " ('car', 'NN', 'B-NP'),\n",
            " ('race', 'NN', 'B-NP'),\n",
            " ('of', 'IN', 'O'),\n",
            " ('the', 'DT', 'O'),\n",
            " ('2006', 'CD', 'O'),\n",
            " ('NASCAR', 'NNP', 'O'),\n",
            " ('Nextel', 'NNP', 'O'),\n",
            " ('Cup', 'NNP', 'O'),\n",
            " ('Series', 'NNP', 'O'),\n",
            " ('and', 'CC', 'O'),\n",
            " ('the', 'DT', 'O'),\n",
            " ('sixth', 'JJ', 'O'),\n",
            " ('in', 'IN', 'O'),\n",
            " ('the', 'DT', 'O'),\n",
            " ('ten-race', 'JJ', 'O'),\n",
            " ('Chase', 'NNP', 'O'),\n",
            " ('for', 'IN', 'O'),\n",
            " ('the', 'DT', 'O'),\n",
            " ('Nextel', 'NNP', 'O'),\n",
            " ('Cup', 'NNP', 'O'),\n",
            " ('.', '.', 'O'),\n",
            " ('It', 'PRP', 'O'),\n",
            " ('was', 'VBD', 'O'),\n",
            " ('held', 'VBN', 'O'),\n",
            " ('on', 'IN', 'O'),\n",
            " ('October', 'NNP', 'O'),\n",
            " ('22', 'CD', 'O'),\n",
            " (',', ',', 'O'),\n",
            " ('2006', 'CD', 'O'),\n",
            " (',', ',', 'O'),\n",
            " ('before', 'IN', 'O'),\n",
            " ('a', 'DT', 'B-NP'),\n",
            " ('crowd', 'NN', 'I-NP'),\n",
            " ('of', 'IN', 'O'),\n",
            " ('65,000', 'CD', 'O'),\n",
            " (',', ',', 'O'),\n",
            " ('at', 'IN', 'O'),\n",
            " ('Martinsville', 'NNP', 'O'),\n",
            " ('Speedway', 'NNP', 'O'),\n",
            " ('(', '(', 'O'),\n",
            " ('pictured', 'VBN', 'O'),\n",
            " (')', ')', 'O'),\n",
            " ('in', 'IN', 'O'),\n",
            " ('Martinsville', 'NNP', 'O'),\n",
            " (',', ',', 'O'),\n",
            " ('Virginia', 'NNP', 'O'),\n",
            " (',', ',', 'O'),\n",
            " ('one', 'CD', 'O'),\n",
            " ('of', 'IN', 'O'),\n",
            " ('five', 'CD', 'O'),\n",
            " ('short', 'JJ', 'O'),\n",
            " ('tracks', 'NNS', 'O'),\n",
            " ('to', 'TO', 'O'),\n",
            " ('hold', 'VB', 'O'),\n",
            " ('NASCAR', 'NNP', 'O'),\n",
            " ('races', 'NNS', 'O'),\n",
            " ('.', '.', 'O'),\n",
            " ('The', 'DT', 'B-NP'),\n",
            " ('500-lap', 'JJ', 'I-NP'),\n",
            " ('race', 'NN', 'I-NP'),\n",
            " ('was', 'VBD', 'O'),\n",
            " ('won', 'VBN', 'O'),\n",
            " ('by', 'IN', 'O'),\n",
            " ('Jimmie', 'NNP', 'O'),\n",
            " ('Johnson', 'NNP', 'O'),\n",
            " ('of', 'IN', 'O'),\n",
            " ('Hendrick', 'NNP', 'O'),\n",
            " ('Motorsports', 'NNP', 'O'),\n",
            " (';', ':', 'O'),\n",
            " ('Denny', 'NNP', 'O'),\n",
            " ('Hamlin', 'NNP', 'O'),\n",
            " ('finished', 'VBD', 'O'),\n",
            " ('second', 'JJ', 'O'),\n",
            " (',', ',', 'O'),\n",
            " ('and', 'CC', 'O'),\n",
            " ('Bobby', 'NNP', 'O'),\n",
            " ('Labonte', 'NNP', 'O'),\n",
            " ('came', 'VBD', 'O'),\n",
            " ('in', 'IN', 'O'),\n",
            " ('third', 'JJ', 'O'),\n",
            " ('.', '.', 'O'),\n",
            " ('Kurt', 'NNP', 'O'),\n",
            " ('Busch', 'NNP', 'O'),\n",
            " ('won', 'VBD', 'O'),\n",
            " ('the', 'DT', 'B-NP'),\n",
            " ('pole', 'JJ', 'I-NP'),\n",
            " ('position', 'NN', 'I-NP'),\n",
            " ('with', 'IN', 'O'),\n",
            " ('the', 'DT', 'O'),\n",
            " ('fastest', 'JJS', 'O'),\n",
            " ('time', 'NN', 'B-NP'),\n",
            " ('in', 'IN', 'O'),\n",
            " ('qualifying', 'VBG', 'O'),\n",
            " (';', ':', 'O'),\n",
            " ('Johnson', 'NNP', 'O'),\n",
            " ('started', 'VBD', 'O'),\n",
            " ('from', 'IN', 'O'),\n",
            " ('ninth', 'JJ', 'B-NP'),\n",
            " ('position', 'NN', 'I-NP'),\n",
            " ('.', '.', 'O'),\n",
            " ('There', 'EX', 'O'),\n",
            " ('were', 'VBD', 'O'),\n",
            " ('18', 'CD', 'O'),\n",
            " ('cautions', 'NNS', 'O'),\n",
            " ('and', 'CC', 'O'),\n",
            " ('16', 'CD', 'O'),\n",
            " ('lead', 'NN', 'B-NP'),\n",
            " ('changes', 'NNS', 'O'),\n",
            " ('by', 'IN', 'O'),\n",
            " ('five', 'CD', 'O'),\n",
            " ('different', 'JJ', 'O'),\n",
            " ('drivers', 'NNS', 'O'),\n",
            " ('during', 'IN', 'O'),\n",
            " ('the', 'DT', 'B-NP'),\n",
            " ('race', 'NN', 'I-NP'),\n",
            " ('.', '.', 'O'),\n",
            " ('Johnson', 'NNP', 'O'),\n",
            " (\"'s\", 'POS', 'O'),\n",
            " ('win', 'NN', 'B-NP'),\n",
            " ('was', 'VBD', 'O'),\n",
            " ('his', 'PRP$', 'O'),\n",
            " ('fifth', 'NN', 'B-NP'),\n",
            " ('of', 'IN', 'O'),\n",
            " ('the', 'DT', 'O'),\n",
            " ('2006', 'CD', 'O'),\n",
            " ('season', 'NN', 'B-NP'),\n",
            " (',', ',', 'O'),\n",
            " ('and', 'CC', 'O'),\n",
            " ('the', 'DT', 'O'),\n",
            " ('23rd', 'CD', 'O'),\n",
            " ('of', 'IN', 'O'),\n",
            " ('his', 'PRP$', 'O'),\n",
            " ('career', 'NN', 'B-NP'),\n",
            " ('.', '.', 'O'),\n",
            " ('The', 'DT', 'B-NP'),\n",
            " ('result', 'NN', 'I-NP'),\n",
            " ('advanced', 'VBD', 'O'),\n",
            " ('him', 'PRP', 'O'),\n",
            " ('to', 'TO', 'O'),\n",
            " ('third', 'VB', 'O'),\n",
            " ('in', 'IN', 'O'),\n",
            " ('the', 'DT', 'O'),\n",
            " ('Drivers', 'NNP', 'O'),\n",
            " (\"'\", 'POS', 'O'),\n",
            " ('Championship', 'NNP', 'O'),\n",
            " (',', ',', 'O'),\n",
            " ('41', 'CD', 'O'),\n",
            " ('points', 'NNS', 'O'),\n",
            " ('behind', 'IN', 'O'),\n",
            " ('Matt', 'NNP', 'O'),\n",
            " ('Kenseth', 'NNP', 'O'),\n",
            " (',', ',', 'O'),\n",
            " ('who', 'WP', 'O'),\n",
            " ('took', 'VBD', 'O'),\n",
            " ('over', 'RP', 'O'),\n",
            " ('the', 'DT', 'B-NP'),\n",
            " ('championship', 'NN', 'I-NP'),\n",
            " ('lead', 'NN', 'B-NP'),\n",
            " ('after', 'IN', 'O'),\n",
            " ('Jeff', 'NNP', 'O'),\n",
            " ('Burton', 'NNP', 'O'),\n",
            " ('retired', 'VBD', 'O'),\n",
            " ('from', 'IN', 'O'),\n",
            " ('the', 'DT', 'B-NP'),\n",
            " ('race', 'NN', 'I-NP'),\n",
            " ('.', '.', 'O'),\n",
            " ('Chevrolet', 'NNP', 'O'),\n",
            " ('maintained', 'VBD', 'O'),\n",
            " ('its', 'PRP$', 'O'),\n",
            " ('lead', 'NN', 'B-NP'),\n",
            " ('in', 'IN', 'O'),\n",
            " ('the', 'DT', 'O'),\n",
            " ('Manufacturers', 'NNP', 'O'),\n",
            " (\"'\", 'POS', 'O'),\n",
            " ('Championship', 'NNP', 'O'),\n",
            " ('with', 'IN', 'O'),\n",
            " ('four', 'CD', 'O'),\n",
            " ('races', 'NNS', 'O'),\n",
            " ('left', 'VBN', 'O'),\n",
            " ('in', 'IN', 'O'),\n",
            " ('the', 'DT', 'B-NP'),\n",
            " ('season', 'NN', 'I-NP'),\n",
            " ('.', '.', 'O'),\n",
            " ('(', '(', 'O'),\n",
            " ('Full', 'JJ', 'B-NP'),\n",
            " ('article', 'NN', 'I-NP'),\n",
            " ('...', ':', 'O'),\n",
            " (')', ')', 'O'),\n",
            " ('September', 'NNP', 'O'),\n",
            " ('15', 'CD', 'O'),\n",
            " (':', ':', 'O'),\n",
            " ('Battle', 'NNP', 'O'),\n",
            " ('of', 'IN', 'O'),\n",
            " ('Britain', 'NNP', 'O'),\n",
            " ('Day', 'NNP', 'O'),\n",
            " ('in', 'IN', 'O'),\n",
            " ('the', 'DT', 'O'),\n",
            " ('United', 'NNP', 'O'),\n",
            " ('Kingdom', 'NNP', 'O'),\n",
            " ('(', '(', 'O'),\n",
            " ('1940', 'CD', 'O'),\n",
            " (')', ')', 'O'),\n",
            " (';', ':', 'O'),\n",
            " ('Free', 'JJ', 'O'),\n",
            " ('Money', 'NNP', 'O'),\n",
            " ('Day', 'NNP', 'O'),\n",
            " ('Macrotyloma', 'NNP', 'O'),\n",
            " ('uniflorum', 'NN', 'B-NP'),\n",
            " (',', ',', 'O'),\n",
            " ('commonly', 'RB', 'O'),\n",
            " ('known', 'VBN', 'O'),\n",
            " ('as', 'IN', 'O'),\n",
            " ('horse', 'NN', 'B-NP'),\n",
            " ('gram', 'NN', 'B-NP'),\n",
            " (',', ',', 'O'),\n",
            " ('is', 'VBZ', 'O'),\n",
            " ('a', 'DT', 'O'),\n",
            " ('legume', 'JJ', 'O'),\n",
            " ('native', 'JJ', 'O'),\n",
            " ('to', 'TO', 'O'),\n",
            " ('tropical', 'JJ', 'O'),\n",
            " ('southern', 'JJ', 'O'),\n",
            " ('Asia', 'NNP', 'O'),\n",
            " ('.', '.', 'O'),\n",
            " ('The', 'DT', 'B-NP'),\n",
            " ('plant', 'NN', 'I-NP'),\n",
            " ('grows', 'VBZ', 'O'),\n",
            " ('from', 'IN', 'O'),\n",
            " ('a', 'DT', 'B-NP'),\n",
            " ('rhizome', 'NN', 'I-NP'),\n",
            " (',', ',', 'O'),\n",
            " ('sending', 'VBG', 'O'),\n",
            " ('up', 'RP', 'O'),\n",
            " ('annual', 'JJ', 'O'),\n",
            " ('shoots', 'NNS', 'O'),\n",
            " ('to', 'TO', 'O'),\n",
            " ('a', 'DT', 'B-NP'),\n",
            " ('height', 'NN', 'I-NP'),\n",
            " ('of', 'IN', 'O'),\n",
            " ('60', 'CD', 'O'),\n",
            " ('cm', 'NN', 'B-NP'),\n",
            " ('(', '(', 'O'),\n",
            " ('24', 'CD', 'O'),\n",
            " ('in', 'IN', 'O'),\n",
            " (')', ')', 'O'),\n",
            " ('.', '.', 'O'),\n",
            " ('The', 'DT', 'O'),\n",
            " ('flowers', 'NNS', 'O'),\n",
            " ('are', 'VBP', 'O'),\n",
            " ('cream', 'NN', 'B-NP'),\n",
            " (',', ',', 'O'),\n",
            " ('yellow', \"''\", 'O'),\n",
            " ('or', 'CC', 'O'),\n",
            " ('pale', 'VB', 'O'),\n",
            " ('green', 'JJ', 'O'),\n",
            " ('and', 'CC', 'O'),\n",
            " ('are', 'VBP', 'O'),\n",
            " ('followed', 'VBN', 'O'),\n",
            " ('by', 'IN', 'O'),\n",
            " ('short', 'JJ', 'O'),\n",
            " ('pods', 'NNS', 'O'),\n",
            " ('.', '.', 'O'),\n",
            " ('The', 'DT', 'O'),\n",
            " ('seeds', 'NNS', 'O'),\n",
            " (',', ',', 'O'),\n",
            " ('pictured', 'VBN', 'O'),\n",
            " ('here', 'RB', 'O'),\n",
            " (',', ',', 'O'),\n",
            " ('have', 'VBP', 'O'),\n",
            " ('been', 'VBN', 'O'),\n",
            " ('consumed', 'VBN', 'O'),\n",
            " ('in', 'IN', 'O'),\n",
            " ('India', 'NNP', 'O'),\n",
            " ('for', 'IN', 'O'),\n",
            " ('at', 'IN', 'O'),\n",
            " ('least', 'JJS', 'O'),\n",
            " ('4,000', 'CD', 'O'),\n",
            " ('years', 'NNS', 'O'),\n",
            " ('and', 'CC', 'O'),\n",
            " ('are', 'VBP', 'O'),\n",
            " ('used', 'VBN', 'O'),\n",
            " ('both', 'DT', 'O'),\n",
            " ('for', 'IN', 'O'),\n",
            " ('animal', 'NN', 'B-NP'),\n",
            " ('feed', 'NN', 'B-NP'),\n",
            " ('and', 'CC', 'O'),\n",
            " ('human', 'JJ', 'B-NP'),\n",
            " ('consumption', 'NN', 'I-NP'),\n",
            " (',', ',', 'O'),\n",
            " ('including', 'VBG', 'O'),\n",
            " ('Ayurvedic', 'NNP', 'O'),\n",
            " ('cuisine', 'NN', 'B-NP'),\n",
            " ('.', '.', 'O'),\n",
            " ('In', 'IN', 'O'),\n",
            " ('other', 'JJ', 'O'),\n",
            " ('tropical', 'JJ', 'O'),\n",
            " ('countries', 'NNS', 'O'),\n",
            " ('in', 'IN', 'O'),\n",
            " ('southeastern', 'JJ', 'O'),\n",
            " ('Asia', 'NNP', 'O'),\n",
            " (',', ',', 'O'),\n",
            " ('and', 'CC', 'O'),\n",
            " ('in', 'IN', 'O'),\n",
            " ('northern', 'JJ', 'O'),\n",
            " ('Australia', 'NNP', 'O'),\n",
            " (',', ',', 'O'),\n",
            " ('the', 'DT', 'B-NP'),\n",
            " ('plant', 'NN', 'I-NP'),\n",
            " ('is', 'VBZ', 'O'),\n",
            " ('grown', 'VBN', 'O'),\n",
            " ('mainly', 'RB', 'O'),\n",
            " ('as', 'IN', 'O'),\n",
            " ('a', 'DT', 'B-NP'),\n",
            " ('fodder', 'NN', 'I-NP'),\n",
            " ('crop', 'NN', 'B-NP'),\n",
            " ('and', 'CC', 'O'),\n",
            " ('for', 'IN', 'O'),\n",
            " ('use', 'NN', 'B-NP'),\n",
            " ('as', 'IN', 'O'),\n",
            " ('green', 'JJ', 'B-NP'),\n",
            " ('manure', 'NN', 'I-NP'),\n",
            " ('.', '.', 'O'),\n",
            " ('It', 'PRP', 'O'),\n",
            " ('is', 'VBZ', 'O'),\n",
            " ('a', 'DT', 'B-NP'),\n",
            " ('drought-tolerant', 'JJ', 'I-NP'),\n",
            " ('plant', 'NN', 'I-NP'),\n",
            " (',', ',', 'O'),\n",
            " ('largely', 'RB', 'O'),\n",
            " ('cultivated', 'VBN', 'O'),\n",
            " ('in', 'IN', 'O'),\n",
            " ('areas', 'NNS', 'O'),\n",
            " ('with', 'IN', 'O'),\n",
            " ('low', 'JJ', 'B-NP'),\n",
            " ('rainfall', 'NN', 'I-NP'),\n",
            " ('.', '.', 'O'),\n",
            " ('Photograph', 'NNP', 'O'),\n",
            " ('credit', 'NN', 'B-NP'),\n",
            " (':', ':', 'O'),\n",
            " ('Prathyush', 'JJ', 'O'),\n",
            " ('ThomasWikipedia', 'NNP', 'O'),\n",
            " ('is', 'VBZ', 'O'),\n",
            " ('hosted', 'VBN', 'O'),\n",
            " ('by', 'IN', 'O'),\n",
            " ('the', 'DT', 'O'),\n",
            " ('Wikimedia', 'NNP', 'O'),\n",
            " ('Foundation', 'NNP', 'O'),\n",
            " (',', ',', 'O'),\n",
            " ('a', 'DT', 'B-NP'),\n",
            " ('non-profit', 'JJ', 'I-NP'),\n",
            " ('organization', 'NN', 'I-NP'),\n",
            " ('that', 'WDT', 'O'),\n",
            " ('also', 'RB', 'O'),\n",
            " ('hosts', 'VBZ', 'O'),\n",
            " ('a', 'DT', 'B-NP'),\n",
            " ('range', 'NN', 'I-NP'),\n",
            " ('of', 'IN', 'O'),\n",
            " ('other', 'JJ', 'O'),\n",
            " ('projects', 'NNS', 'O'),\n",
            " (':', ':', 'O'),\n",
            " ('This', 'DT', 'O'),\n",
            " ('Wikipedia', 'NNP', 'O'),\n",
            " ('is', 'VBZ', 'O'),\n",
            " ('written', 'VBN', 'O'),\n",
            " ('in', 'IN', 'O'),\n",
            " ('English', 'NNP', 'O'),\n",
            " ('.', '.', 'O'),\n",
            " ('Started', 'VBN', 'O'),\n",
            " ('in', 'IN', 'O'),\n",
            " ('2001', 'CD', 'O'),\n",
            " ('(', '(', 'O'),\n",
            " ('2001', 'CD', 'O'),\n",
            " (')', ')', 'O'),\n",
            " (',', ',', 'O'),\n",
            " ('it', 'PRP', 'O'),\n",
            " ('currently', 'RB', 'O'),\n",
            " ('contains', 'VBZ', 'O'),\n",
            " ('6,158,529', 'CD', 'O'),\n",
            " ('articles', 'NNS', 'O'),\n",
            " ('.', '.', 'O'),\n",
            " ('Many', 'JJ', 'O'),\n",
            " ('other', 'JJ', 'O'),\n",
            " ('Wikipedias', 'NNP', 'O'),\n",
            " ('are', 'VBP', 'O'),\n",
            " ('available', 'JJ', 'O'),\n",
            " (';', ':', 'O'),\n",
            " ('some', 'DT', 'O'),\n",
            " ('of', 'IN', 'O'),\n",
            " ('the', 'DT', 'O'),\n",
            " ('largest', 'JJS', 'O'),\n",
            " ('are', 'VBP', 'O'),\n",
            " ('listed', 'VBN', 'O'),\n",
            " ('below', 'IN', 'O'),\n",
            " ('.', '.', 'O')]\n"
          ],
          "name": "stdout"
        }
      ]
    },
    {
      "cell_type": "code",
      "metadata": {
        "id": "XOVq70LN9aFS",
        "outputId": "e4656afa-107a-4e4d-ee30-e21498135a24",
        "colab": {
          "base_uri": "https://localhost:8080/",
          "height": 1000
        }
      },
      "source": [
        "ne_tree = nltk.ne_chunk(nltk.pos_tag(word_tokenize(article_text)))\n",
        "print(ne_tree)"
      ],
      "execution_count": null,
      "outputs": [
        {
          "output_type": "stream",
          "text": [
            "(S\n",
            "  The/DT\n",
            "  2006/CD\n",
            "  Subway/NNP\n",
            "  500/CD\n",
            "  was/VBD\n",
            "  the/DT\n",
            "  32nd/CD\n",
            "  stock/NN\n",
            "  car/NN\n",
            "  race/NN\n",
            "  of/IN\n",
            "  the/DT\n",
            "  2006/CD\n",
            "  (ORGANIZATION NASCAR/NNP Nextel/NNP)\n",
            "  Cup/NNP\n",
            "  Series/NNP\n",
            "  and/CC\n",
            "  the/DT\n",
            "  sixth/JJ\n",
            "  in/IN\n",
            "  the/DT\n",
            "  ten-race/JJ\n",
            "  Chase/NNP\n",
            "  for/IN\n",
            "  the/DT\n",
            "  (ORGANIZATION Nextel/NNP Cup/NNP)\n",
            "  ./.\n",
            "  It/PRP\n",
            "  was/VBD\n",
            "  held/VBN\n",
            "  on/IN\n",
            "  October/NNP\n",
            "  22/CD\n",
            "  ,/,\n",
            "  2006/CD\n",
            "  ,/,\n",
            "  before/IN\n",
            "  a/DT\n",
            "  crowd/NN\n",
            "  of/IN\n",
            "  65,000/CD\n",
            "  ,/,\n",
            "  at/IN\n",
            "  (FACILITY Martinsville/NNP Speedway/NNP)\n",
            "  (/(\n",
            "  pictured/VBN\n",
            "  )/)\n",
            "  in/IN\n",
            "  (GSP Martinsville/NNP)\n",
            "  ,/,\n",
            "  (GPE Virginia/NNP)\n",
            "  ,/,\n",
            "  one/CD\n",
            "  of/IN\n",
            "  five/CD\n",
            "  short/JJ\n",
            "  tracks/NNS\n",
            "  to/TO\n",
            "  hold/VB\n",
            "  (ORGANIZATION NASCAR/NNP)\n",
            "  races/NNS\n",
            "  ./.\n",
            "  The/DT\n",
            "  500-lap/JJ\n",
            "  race/NN\n",
            "  was/VBD\n",
            "  won/VBN\n",
            "  by/IN\n",
            "  (PERSON Jimmie/NNP Johnson/NNP)\n",
            "  of/IN\n",
            "  (PERSON Hendrick/NNP Motorsports/NNP)\n",
            "  ;/:\n",
            "  (PERSON Denny/NNP Hamlin/NNP)\n",
            "  finished/VBD\n",
            "  second/JJ\n",
            "  ,/,\n",
            "  and/CC\n",
            "  (PERSON Bobby/NNP Labonte/NNP)\n",
            "  came/VBD\n",
            "  in/IN\n",
            "  third/JJ\n",
            "  ./.\n",
            "  (PERSON Kurt/NNP Busch/NNP)\n",
            "  won/VBD\n",
            "  the/DT\n",
            "  pole/JJ\n",
            "  position/NN\n",
            "  with/IN\n",
            "  the/DT\n",
            "  fastest/JJS\n",
            "  time/NN\n",
            "  in/IN\n",
            "  qualifying/VBG\n",
            "  ;/:\n",
            "  (PERSON Johnson/NNP)\n",
            "  started/VBD\n",
            "  from/IN\n",
            "  ninth/JJ\n",
            "  position/NN\n",
            "  ./.\n",
            "  There/EX\n",
            "  were/VBD\n",
            "  18/CD\n",
            "  cautions/NNS\n",
            "  and/CC\n",
            "  16/CD\n",
            "  lead/NN\n",
            "  changes/NNS\n",
            "  by/IN\n",
            "  five/CD\n",
            "  different/JJ\n",
            "  drivers/NNS\n",
            "  during/IN\n",
            "  the/DT\n",
            "  race/NN\n",
            "  ./.\n",
            "  (PERSON Johnson/NNP)\n",
            "  's/POS\n",
            "  win/NN\n",
            "  was/VBD\n",
            "  his/PRP$\n",
            "  fifth/NN\n",
            "  of/IN\n",
            "  the/DT\n",
            "  2006/CD\n",
            "  season/NN\n",
            "  ,/,\n",
            "  and/CC\n",
            "  the/DT\n",
            "  23rd/CD\n",
            "  of/IN\n",
            "  his/PRP$\n",
            "  career/NN\n",
            "  ./.\n",
            "  The/DT\n",
            "  result/NN\n",
            "  advanced/VBD\n",
            "  him/PRP\n",
            "  to/TO\n",
            "  third/VB\n",
            "  in/IN\n",
            "  the/DT\n",
            "  (ORGANIZATION Drivers/NNP)\n",
            "  '/POS\n",
            "  Championship/NNP\n",
            "  ,/,\n",
            "  41/CD\n",
            "  points/NNS\n",
            "  behind/IN\n",
            "  (PERSON Matt/NNP Kenseth/NNP)\n",
            "  ,/,\n",
            "  who/WP\n",
            "  took/VBD\n",
            "  over/RP\n",
            "  the/DT\n",
            "  championship/NN\n",
            "  lead/NN\n",
            "  after/IN\n",
            "  (PERSON Jeff/NNP Burton/NNP)\n",
            "  retired/VBD\n",
            "  from/IN\n",
            "  the/DT\n",
            "  race/NN\n",
            "  ./.\n",
            "  (PERSON Chevrolet/NNP)\n",
            "  maintained/VBD\n",
            "  its/PRP$\n",
            "  lead/NN\n",
            "  in/IN\n",
            "  the/DT\n",
            "  (ORGANIZATION Manufacturers/NNP)\n",
            "  '/POS\n",
            "  Championship/NNP\n",
            "  with/IN\n",
            "  four/CD\n",
            "  races/NNS\n",
            "  left/VBN\n",
            "  in/IN\n",
            "  the/DT\n",
            "  season/NN\n",
            "  ./.\n",
            "  (/(\n",
            "  Full/JJ\n",
            "  article/NN\n",
            "  .../:\n",
            "  )/)\n",
            "  September/NNP\n",
            "  15/CD\n",
            "  :/:\n",
            "  Battle/NNP\n",
            "  of/IN\n",
            "  (GPE Britain/NNP)\n",
            "  Day/NNP\n",
            "  in/IN\n",
            "  the/DT\n",
            "  (ORGANIZATION United/NNP Kingdom/NNP)\n",
            "  (/(\n",
            "  1940/CD\n",
            "  )/)\n",
            "  ;/:\n",
            "  (PERSON Free/JJ Money/NNP)\n",
            "  Day/NNP\n",
            "  Macrotyloma/NNP\n",
            "  uniflorum/NN\n",
            "  ,/,\n",
            "  commonly/RB\n",
            "  known/VBN\n",
            "  as/IN\n",
            "  horse/NN\n",
            "  gram/NN\n",
            "  ,/,\n",
            "  is/VBZ\n",
            "  a/DT\n",
            "  legume/JJ\n",
            "  native/JJ\n",
            "  to/TO\n",
            "  tropical/JJ\n",
            "  southern/JJ\n",
            "  (GPE Asia/NNP)\n",
            "  ./.\n",
            "  The/DT\n",
            "  plant/NN\n",
            "  grows/VBZ\n",
            "  from/IN\n",
            "  a/DT\n",
            "  rhizome/NN\n",
            "  ,/,\n",
            "  sending/VBG\n",
            "  up/RP\n",
            "  annual/JJ\n",
            "  shoots/NNS\n",
            "  to/TO\n",
            "  a/DT\n",
            "  height/NN\n",
            "  of/IN\n",
            "  60/CD\n",
            "  cm/NN\n",
            "  (/(\n",
            "  24/CD\n",
            "  in/IN\n",
            "  )/)\n",
            "  ./.\n",
            "  The/DT\n",
            "  flowers/NNS\n",
            "  are/VBP\n",
            "  cream/NN\n",
            "  ,/,\n",
            "  yellow/''\n",
            "  or/CC\n",
            "  pale/VB\n",
            "  green/JJ\n",
            "  and/CC\n",
            "  are/VBP\n",
            "  followed/VBN\n",
            "  by/IN\n",
            "  short/JJ\n",
            "  pods/NNS\n",
            "  ./.\n",
            "  The/DT\n",
            "  seeds/NNS\n",
            "  ,/,\n",
            "  pictured/VBN\n",
            "  here/RB\n",
            "  ,/,\n",
            "  have/VBP\n",
            "  been/VBN\n",
            "  consumed/VBN\n",
            "  in/IN\n",
            "  (GPE India/NNP)\n",
            "  for/IN\n",
            "  at/IN\n",
            "  least/JJS\n",
            "  4,000/CD\n",
            "  years/NNS\n",
            "  and/CC\n",
            "  are/VBP\n",
            "  used/VBN\n",
            "  both/DT\n",
            "  for/IN\n",
            "  animal/NN\n",
            "  feed/NN\n",
            "  and/CC\n",
            "  human/JJ\n",
            "  consumption/NN\n",
            "  ,/,\n",
            "  including/VBG\n",
            "  (PERSON Ayurvedic/NNP)\n",
            "  cuisine/NN\n",
            "  ./.\n",
            "  In/IN\n",
            "  other/JJ\n",
            "  tropical/JJ\n",
            "  countries/NNS\n",
            "  in/IN\n",
            "  southeastern/JJ\n",
            "  (GPE Asia/NNP)\n",
            "  ,/,\n",
            "  and/CC\n",
            "  in/IN\n",
            "  northern/JJ\n",
            "  (GPE Australia/NNP)\n",
            "  ,/,\n",
            "  the/DT\n",
            "  plant/NN\n",
            "  is/VBZ\n",
            "  grown/VBN\n",
            "  mainly/RB\n",
            "  as/IN\n",
            "  a/DT\n",
            "  fodder/NN\n",
            "  crop/NN\n",
            "  and/CC\n",
            "  for/IN\n",
            "  use/NN\n",
            "  as/IN\n",
            "  green/JJ\n",
            "  manure/NN\n",
            "  ./.\n",
            "  It/PRP\n",
            "  is/VBZ\n",
            "  a/DT\n",
            "  drought-tolerant/JJ\n",
            "  plant/NN\n",
            "  ,/,\n",
            "  largely/RB\n",
            "  cultivated/VBN\n",
            "  in/IN\n",
            "  areas/NNS\n",
            "  with/IN\n",
            "  low/JJ\n",
            "  rainfall/NN\n",
            "  ./.\n",
            "  (PERSON Photograph/NNP)\n",
            "  credit/NN\n",
            "  :/:\n",
            "  (PERSON Prathyush/JJ ThomasWikipedia/NNP)\n",
            "  is/VBZ\n",
            "  hosted/VBN\n",
            "  by/IN\n",
            "  the/DT\n",
            "  (ORGANIZATION Wikimedia/NNP Foundation/NNP)\n",
            "  ,/,\n",
            "  a/DT\n",
            "  non-profit/JJ\n",
            "  organization/NN\n",
            "  that/WDT\n",
            "  also/RB\n",
            "  hosts/VBZ\n",
            "  a/DT\n",
            "  range/NN\n",
            "  of/IN\n",
            "  other/JJ\n",
            "  projects/NNS\n",
            "  :/:\n",
            "  This/DT\n",
            "  Wikipedia/NNP\n",
            "  is/VBZ\n",
            "  written/VBN\n",
            "  in/IN\n",
            "  (GPE English/NNP)\n",
            "  ./.\n",
            "  Started/VBN\n",
            "  in/IN\n",
            "  2001/CD\n",
            "  (/(\n",
            "  2001/CD\n",
            "  )/)\n",
            "  ,/,\n",
            "  it/PRP\n",
            "  currently/RB\n",
            "  contains/VBZ\n",
            "  6,158,529/CD\n",
            "  articles/NNS\n",
            "  ./.\n",
            "  Many/JJ\n",
            "  other/JJ\n",
            "  Wikipedias/NNP\n",
            "  are/VBP\n",
            "  available/JJ\n",
            "  ;/:\n",
            "  some/DT\n",
            "  of/IN\n",
            "  the/DT\n",
            "  largest/JJS\n",
            "  are/VBP\n",
            "  listed/VBN\n",
            "  below/IN\n",
            "  ./.)\n"
          ],
          "name": "stdout"
        }
      ]
    },
    {
      "cell_type": "code",
      "metadata": {
        "id": "fbh7nlIn9aFV",
        "outputId": "1c8e9b42-a156-4931-e38c-1f7baedb62ad",
        "colab": {
          "base_uri": "https://localhost:8080/",
          "height": 538
        }
      },
      "source": [
        "for sent in nltk.sent_tokenize(article_text):\n",
        "   for chunk in nltk.ne_chunk(nltk.pos_tag(nltk.word_tokenize(sent))):\n",
        "      if hasattr(chunk, 'label'):\n",
        "         print(chunk.label(), ' '.join(c[0] for c in chunk))"
      ],
      "execution_count": null,
      "outputs": [
        {
          "output_type": "stream",
          "text": [
            "ORGANIZATION NASCAR Nextel\n",
            "ORGANIZATION Nextel Cup\n",
            "FACILITY Martinsville Speedway\n",
            "GSP Martinsville\n",
            "GPE Virginia\n",
            "ORGANIZATION NASCAR\n",
            "PERSON Jimmie Johnson\n",
            "PERSON Hendrick Motorsports\n",
            "PERSON Denny Hamlin\n",
            "PERSON Bobby Labonte\n",
            "PERSON Kurt\n",
            "PERSON Busch\n",
            "PERSON Johnson\n",
            "PERSON Johnson\n",
            "ORGANIZATION Drivers\n",
            "PERSON Matt Kenseth\n",
            "PERSON Jeff Burton\n",
            "GPE Chevrolet\n",
            "ORGANIZATION Manufacturers\n",
            "GPE Britain\n",
            "ORGANIZATION United Kingdom\n",
            "PERSON Free Money\n",
            "GPE Asia\n",
            "GPE India\n",
            "PERSON Ayurvedic\n",
            "GPE Asia\n",
            "GPE Australia\n",
            "GPE Photograph\n",
            "PERSON Prathyush ThomasWikipedia\n",
            "ORGANIZATION Wikimedia Foundation\n",
            "GPE English\n"
          ],
          "name": "stdout"
        }
      ]
    },
    {
      "cell_type": "code",
      "metadata": {
        "id": "yBRoZH0D9aFX"
      },
      "source": [
        "sentence_list = nltk.sent_tokenize(article_text)  #fommatted data doesn;t contain punctuation so article_text used"
      ],
      "execution_count": null,
      "outputs": []
    },
    {
      "cell_type": "code",
      "metadata": {
        "id": "VsJOXgEt9aFa",
        "outputId": "76439a53-61cf-4b45-c8ea-67929c4fe378",
        "colab": {
          "base_uri": "https://localhost:8080/",
          "height": 50
        }
      },
      "source": [
        "nltk.download('stopwords')\n",
        "stopwords = nltk.corpus.stopwords.words('english')     #all stopwords stored here"
      ],
      "execution_count": null,
      "outputs": [
        {
          "output_type": "stream",
          "text": [
            "[nltk_data] Downloading package stopwords to /root/nltk_data...\n",
            "[nltk_data]   Package stopwords is already up-to-date!\n"
          ],
          "name": "stdout"
        }
      ]
    },
    {
      "cell_type": "code",
      "metadata": {
        "id": "m68flWDJ9aFd"
      },
      "source": [
        "word_frequencies = {}    #calculating freq of words(excluding stopwords)"
      ],
      "execution_count": null,
      "outputs": []
    },
    {
      "cell_type": "code",
      "metadata": {
        "id": "2eSWQx1c9aFf"
      },
      "source": [
        "for word in nltk.word_tokenize(formatted_article_text):  \n",
        "    if word not in stopwords:\n",
        "        if word not in word_frequencies.keys():    #encountered for the first time\n",
        "            word_frequencies[word] = 1     \n",
        "        else:                                      #incrementing count\n",
        "            word_frequencies[word] += 1"
      ],
      "execution_count": null,
      "outputs": []
    },
    {
      "cell_type": "code",
      "metadata": {
        "id": "a2_mWVvj9aFh",
        "outputId": "ed32e533-f739-4ce7-cd1b-866b4da394cb",
        "colab": {
          "base_uri": "https://localhost:8080/",
          "height": 54
        }
      },
      "source": [
        "print(word_frequencies)"
      ],
      "execution_count": null,
      "outputs": [
        {
          "output_type": "stream",
          "text": [
            "{'The': 6, 'Subway': 1, 'nd': 1, 'stock': 1, 'car': 1, 'race': 5, 'NASCAR': 2, 'Nextel': 2, 'Cup': 2, 'Series': 1, 'sixth': 1, 'ten': 1, 'Chase': 1, 'It': 2, 'held': 1, 'October': 1, 'crowd': 1, 'Martinsville': 2, 'Speedway': 1, 'pictured': 2, 'Virginia': 1, 'one': 1, 'five': 2, 'short': 2, 'tracks': 1, 'hold': 1, 'races': 2, 'lap': 1, 'Jimmie': 1, 'Johnson': 3, 'Hendrick': 1, 'Motorsports': 1, 'Denny': 1, 'Hamlin': 1, 'finished': 1, 'second': 1, 'Bobby': 1, 'Labonte': 1, 'came': 1, 'third': 2, 'Kurt': 1, 'Busch': 1, 'pole': 1, 'position': 2, 'fastest': 1, 'time': 1, 'qualifying': 1, 'started': 1, 'ninth': 1, 'There': 1, 'cautions': 1, 'lead': 3, 'changes': 1, 'different': 1, 'drivers': 1, 'win': 1, 'fifth': 1, 'season': 2, 'rd': 1, 'career': 1, 'result': 1, 'advanced': 1, 'Drivers': 1, 'Championship': 2, 'points': 1, 'behind': 1, 'Matt': 1, 'Kenseth': 1, 'took': 1, 'championship': 1, 'Jeff': 1, 'Burton': 1, 'retired': 1, 'Chevrolet': 1, 'maintained': 1, 'Manufacturers': 1, 'four': 1, 'left': 1, 'Full': 1, 'article': 1, 'September': 1, 'Battle': 1, 'Britain': 1, 'Day': 2, 'United': 1, 'Kingdom': 1, 'Free': 1, 'Money': 1, 'Macrotyloma': 1, 'uniflorum': 1, 'commonly': 1, 'known': 1, 'horse': 1, 'gram': 1, 'legume': 1, 'native': 1, 'tropical': 2, 'southern': 1, 'Asia': 2, 'plant': 3, 'grows': 1, 'rhizome': 1, 'sending': 1, 'annual': 1, 'shoots': 1, 'height': 1, 'cm': 1, 'flowers': 1, 'cream': 1, 'yellow': 1, 'pale': 1, 'green': 2, 'followed': 1, 'pods': 1, 'seeds': 1, 'consumed': 1, 'India': 1, 'least': 1, 'years': 1, 'used': 1, 'animal': 1, 'feed': 1, 'human': 1, 'consumption': 1, 'including': 1, 'Ayurvedic': 1, 'cuisine': 1, 'In': 1, 'countries': 1, 'southeastern': 1, 'northern': 1, 'Australia': 1, 'grown': 1, 'mainly': 1, 'fodder': 1, 'crop': 1, 'use': 1, 'manure': 1, 'drought': 1, 'tolerant': 1, 'largely': 1, 'cultivated': 1, 'areas': 1, 'low': 1, 'rainfall': 1, 'Photograph': 1, 'credit': 1, 'Prathyush': 1, 'ThomasWikipedia': 1, 'hosted': 1, 'Wikimedia': 1, 'Foundation': 1, 'non': 1, 'profit': 1, 'organization': 1, 'also': 1, 'hosts': 1, 'range': 1, 'projects': 1, 'This': 1, 'Wikipedia': 1, 'written': 1, 'English': 1, 'Started': 1, 'currently': 1, 'contains': 1, 'articles': 1, 'Many': 1, 'Wikipedias': 1, 'available': 1, 'largest': 1, 'listed': 1}\n"
          ],
          "name": "stdout"
        }
      ]
    },
    {
      "cell_type": "code",
      "metadata": {
        "id": "L0Q2lSXf9aFk"
      },
      "source": [
        "maximum_frequncy = max(word_frequencies.values())"
      ],
      "execution_count": null,
      "outputs": []
    },
    {
      "cell_type": "code",
      "metadata": {
        "id": "FMU-JUc99aFm"
      },
      "source": [
        "#Calculating weighted freq of all words\n",
        "for word in word_frequencies.keys():\n",
        "    word_frequencies[word] = (word_frequencies[word]/maximum_frequncy)"
      ],
      "execution_count": null,
      "outputs": []
    },
    {
      "cell_type": "code",
      "metadata": {
        "id": "BtXwuWXJ9aFo"
      },
      "source": [
        "sentence_scores = {}    #calculating freq of sentences"
      ],
      "execution_count": null,
      "outputs": []
    },
    {
      "cell_type": "code",
      "metadata": {
        "id": "TN3TiOi69aFq"
      },
      "source": [
        "for sent in sentence_list:  \n",
        "    for word in nltk.word_tokenize(sent.lower()):   #convert to lowercase\n",
        "        if word in word_frequencies.keys():        \n",
        "            if len(sent.split(' ')) < 30:      #for smaller sentences < 30\n",
        "                if sent not in sentence_scores.keys():\n",
        "                    sentence_scores[sent] = word_frequencies[word]\n",
        "                else:\n",
        "                    sentence_scores[sent] += word_frequencies[word]"
      ],
      "execution_count": null,
      "outputs": []
    },
    {
      "cell_type": "code",
      "metadata": {
        "id": "nnGsPUzW9aFt"
      },
      "source": [
        "import heapq    #to retrieve highest scores"
      ],
      "execution_count": null,
      "outputs": []
    },
    {
      "cell_type": "code",
      "metadata": {
        "id": "pB1YoNvP9aFv"
      },
      "source": [
        "summary_sentences = heapq.nlargest(7, sentence_scores, key=sentence_scores.get)"
      ],
      "execution_count": null,
      "outputs": []
    },
    {
      "cell_type": "code",
      "metadata": {
        "id": "_XmCKIQs9aF2",
        "outputId": "0b3b8d18-6608-4911-e546-3d22e169fa8b",
        "colab": {
          "base_uri": "https://localhost:8080/",
          "height": 54
        }
      },
      "source": [
        "summary = ' '.join(summary_sentences)\n",
        "print(summary) "
      ],
      "execution_count": null,
      "outputs": [
        {
          "output_type": "stream",
          "text": [
            "The result advanced him to third in the Drivers' Championship, 41 points behind Matt Kenseth, who took over the championship lead after Jeff Burton retired from the race. In other tropical countries in southeastern Asia, and in northern Australia, the plant is grown mainly as a fodder crop and for use as green manure. There were 18 cautions and 16 lead changes by five different drivers during the race. It was held on October 22, 2006, before a crowd of 65,000, at Martinsville Speedway (pictured) in Martinsville, Virginia, one of five short tracks to hold NASCAR races. The seeds, pictured here, have been consumed in India for at least 4,000 years and are used both for animal feed and human consumption, including Ayurvedic cuisine. Chevrolet maintained its lead in the Manufacturers' Championship with four races left in the season. The 500-lap race was won by Jimmie Johnson of Hendrick Motorsports; Denny Hamlin finished second, and Bobby Labonte came in third.\n"
          ],
          "name": "stdout"
        }
      ]
    },
    {
      "cell_type": "code",
      "metadata": {
        "id": "XZ6L4a1M9aF7"
      },
      "source": [
        ""
      ],
      "execution_count": null,
      "outputs": []
    }
  ]
}